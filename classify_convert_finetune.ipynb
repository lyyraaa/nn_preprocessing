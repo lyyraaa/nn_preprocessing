{
 "cells": [
  {
   "cell_type": "code",
   "execution_count": 35,
   "id": "initial_id",
   "metadata": {
    "collapsed": true,
    "ExecuteTime": {
     "end_time": "2025-03-12T16:40:49.702591700Z",
     "start_time": "2025-03-12T16:40:49.657950700Z"
    }
   },
   "outputs": [],
   "source": [
    "import numpy as np\n",
    "from matplotlib import pyplot as plt\n",
    "import torch\n",
    "from torch import nn\n",
    "from sklearn.model_selection import train_test_split, KFold\n",
    "from sklearn.metrics import accuracy_score, f1_score"
   ]
  },
  {
   "cell_type": "markdown",
   "source": [
    "## Experiment Parameters"
   ],
   "metadata": {
    "collapsed": false
   },
   "id": "318379b4c9456f39"
  },
  {
   "cell_type": "code",
   "outputs": [],
   "source": [
    "# Experiment level\n",
    "seed = 42\n",
    "torch.manual_seed(seed) # set random seed for reproducibility\n",
    "\n",
    "# Data loading\n",
    "test_set_fraction = 0.2\n",
    "val_set_fraction = 0.2\n",
    "batch_size= 64\n",
    "n_classes = 6\n",
    "\n",
    "# Network parameters\n",
    "hidden_dim = 256\n",
    "\n",
    "# Training schedule\n",
    "lr = 1e-6\n",
    "l2 = 5e-1\n",
    "epochs = 60"
   ],
   "metadata": {
    "collapsed": false,
    "ExecuteTime": {
     "end_time": "2025-03-12T16:40:49.714561400Z",
     "start_time": "2025-03-12T16:40:49.704813300Z"
    }
   },
   "id": "43fc33cf0cc9608a",
   "execution_count": 36
  },
  {
   "cell_type": "markdown",
   "source": [
    "## Import sample data"
   ],
   "metadata": {
    "collapsed": false
   },
   "id": "e6c2ff0ba40d36a5"
  },
  {
   "cell_type": "code",
   "outputs": [
    {
     "name": "stdout",
     "output_type": "stream",
     "text": [
      "Loaded 49361 spectra from 228 cores from 100 patients\n"
     ]
    }
   ],
   "source": [
    "root_dir = r'C:/Users/w37262do/Documents/git/lbp_3d/data/'\n",
    "spectra_raw = np.load(root_dir+'all_raw_spectra.npy') \n",
    "spectra_trans = np.load(root_dir+'all_transformed_spectra.npy') * 1000\n",
    "core_ids = np.load(root_dir+'all_core_indices.npy')\n",
    "patient_ids = np.load(root_dir+'all_core_pids.npy')\n",
    "tissue_classes = np.load(root_dir+'all_tissue_classes.npy')\n",
    "wavenumbers_raw = np.load(root_dir+'wavenumbers.npy')\n",
    "wavenumbers_trans = np.load(root_dir+'wavenumbers_dougal1_2nd.npy')\n",
    "annotation_class_names = np.array(['epithelium_n','stroma_n','epithelium_c','stroma_c','corpora_amylacea','blood'])\n",
    "annotation_class_colors = np.array([[0,255,0],[128,0,128],[255,0,255],[0,0,255],[255,165,0],[255,0,0]])\n",
    "n_classes = len(np.unique(tissue_classes))\n",
    "print(f\"Loaded {len(spectra_raw)} spectra from {len(np.unique(core_ids))} cores from {len(np.unique(patient_ids))} patients\")"
   ],
   "metadata": {
    "collapsed": false,
    "ExecuteTime": {
     "end_time": "2025-03-12T16:40:50.182575Z",
     "start_time": "2025-03-12T16:40:49.717677100Z"
    }
   },
   "id": "162152a29cd6d12a",
   "execution_count": 37
  },
  {
   "cell_type": "markdown",
   "source": [
    "## Define data split, dataloaders and datasets\n"
   ],
   "metadata": {
    "collapsed": false
   },
   "id": "23e8a986a2b7268"
  },
  {
   "cell_type": "code",
   "outputs": [
    {
     "name": "stdout",
     "output_type": "stream",
     "text": [
      "Spectra per data split:\n",
      "\tTrain: 29785\n",
      "\tVal: 9231\n",
      "\tTest: 10345\n"
     ]
    }
   ],
   "source": [
    "# split patients into train, val, test sets\n",
    "unique_pids = np.unique(patient_ids)\n",
    "pids_trainval, pids_test, _, _ = train_test_split(unique_pids, np.zeros_like(unique_pids), test_size=0.2, random_state=seed)\n",
    "pids_train, pids_val, _, _ = train_test_split(pids_trainval, np.zeros_like(pids_trainval), test_size=0.25, random_state=seed)\n",
    "# Get indexes for which spectra are in each set\n",
    "where_train = np.where(np.isin(patient_ids,pids_train))\n",
    "where_val = np.where(np.isin(patient_ids,pids_val))\n",
    "where_test = np.where(np.isin(patient_ids,pids_test))\n",
    "print(f\"Spectra per data split:\\n\\tTrain: {len(where_train[0])}\\n\\tVal: {len(where_val[0])}\\n\\tTest: {len(where_test[0])}\")"
   ],
   "metadata": {
    "collapsed": false,
    "ExecuteTime": {
     "end_time": "2025-03-12T16:40:50.192437300Z",
     "start_time": "2025-03-12T16:40:50.186855500Z"
    }
   },
   "id": "f107e76dc407618c",
   "execution_count": 38
  },
  {
   "cell_type": "code",
   "outputs": [
    {
     "name": "stdout",
     "output_type": "stream",
     "text": [
      "loader sizes:\n",
      "\ttrain: 466 batches\n",
      "\tval: 145 batches\n",
      "\ttest: 162 batches\n"
     ]
    }
   ],
   "source": [
    "# define custom dataset class, inheriting from torch.utils.data.Dataset\n",
    "# The three functions here must be defined when inheriting from torch.utils.data.Dataset\n",
    "class spectra_dataset(torch.utils.data.Dataset):\n",
    "    def __init__(self, spectra_raw, spectra_trans, labels):\n",
    "        self.spectra_raw = spectra_raw\n",
    "        self.spectra_trans = spectra_trans\n",
    "        self.labels = labels\n",
    "\n",
    "    # Function called to determine number of items in dataset\n",
    "    def __len__(self):\n",
    "        return len(self.spectra_raw)\n",
    "        \n",
    "    # Function called when retrieving a single item from dataset\n",
    "    # Items are indexed from [0 -> self.__len__]\n",
    "    def __getitem__(self, idx):\n",
    "        # get spectrum at idx, then convert from numpy array to torch tensor\n",
    "        spectrum = torch.from_numpy(self.spectra_raw[idx]).float() # torch (generally) expects float dtype for continuous data\n",
    "        \n",
    "        # get label, then convert it to a tensor also\n",
    "        trans = torch.from_numpy(self.spectra_trans[idx]).float() # torch expects labels to be long int\n",
    "        \n",
    "        label = torch.tensor(self.labels[idx]).long()\n",
    "        \n",
    "        return spectrum, trans, label\n",
    "\n",
    "# Define dataset objects for each data split\n",
    "dataset_train = spectra_dataset(\n",
    "    spectra_raw[where_train], spectra_trans[where_train], tissue_classes[where_train]\n",
    ")\n",
    "\n",
    "dataset_val = spectra_dataset(\n",
    "    spectra_raw[where_val], spectra_trans[where_val], tissue_classes[where_val]\n",
    ")\n",
    "\n",
    "dataset_test = spectra_dataset(\n",
    "    spectra_raw[where_test], spectra_trans[where_test], tissue_classes[where_test]\n",
    ")\n",
    "\n",
    "# define dataloader objects for each data split\n",
    "# Batch size determines how many items are loaded and stacked together\n",
    "# Drop last ensures that every item is used; odd-shaped final batch is still used.\n",
    "train_loader = torch.utils.data.DataLoader(dataset_train, batch_size=batch_size, shuffle=True, drop_last=False)\n",
    "val_loader = torch.utils.data.DataLoader(dataset_val, batch_size=batch_size, shuffle=True, drop_last=False)\n",
    "test_loader = torch.utils.data.DataLoader(dataset_test, batch_size=batch_size, shuffle=False, drop_last=False)\n",
    "print(f\"loader sizes:\\n\\ttrain: {len(train_loader)} batches\\n\\tval: {len(val_loader)} batches\\n\\ttest: {len(test_loader)} batches\")"
   ],
   "metadata": {
    "collapsed": false,
    "ExecuteTime": {
     "end_time": "2025-03-12T16:40:50.520534200Z",
     "start_time": "2025-03-12T16:40:50.197900300Z"
    }
   },
   "id": "888ba21c75b35d06",
   "execution_count": 39
  },
  {
   "cell_type": "markdown",
   "source": [
    "## Define network"
   ],
   "metadata": {
    "collapsed": false
   },
   "id": "6855bb015bb20cbf"
  },
  {
   "cell_type": "code",
   "outputs": [
    {
     "name": "stdout",
     "output_type": "stream",
     "text": [
      "model with 0.763M params\n"
     ]
    }
   ],
   "source": [
    "class spectra_network(nn.Module):\n",
    "    def __init__(self, input_dim, hidden_dim, output_dim):\n",
    "        super().__init__()\n",
    "        \n",
    "        self.input_norm = nn.BatchNorm1d(input_dim)\n",
    "        \n",
    "        self.activation = nn.GELU()\n",
    "        \n",
    "        self.autoenc = nn.Sequential(\n",
    "            nn.Linear(input_dim,hidden_dim),\n",
    "            self.activation,\n",
    "            nn.BatchNorm1d(hidden_dim),\n",
    "            nn.Linear(hidden_dim,hidden_dim),\n",
    "            self.activation,\n",
    "            nn.BatchNorm1d(hidden_dim),\n",
    "            nn.Linear(hidden_dim,hidden_dim),\n",
    "            self.activation,\n",
    "            nn.BatchNorm1d(hidden_dim),\n",
    "            nn.Linear(hidden_dim,output_dim),\n",
    "        )\n",
    "    \n",
    "    def forward(self, x):\n",
    "        x = self.input_norm(x)\n",
    "        x = self.autoenc(x)\n",
    "        return x\n",
    "\n",
    "model = spectra_network(\n",
    "    input_dim=spectra_raw.shape[-1],\n",
    "    hidden_dim=hidden_dim,\n",
    "    output_dim=spectra_trans.shape[-1],\n",
    ")\n",
    "print(f\"model with {sum(p.numel() for p in model.parameters() if p.requires_grad) / 1e6:.3f}M params\")\n",
    "loss_fn = nn.MSELoss()\n",
    "optimizer = torch.optim.Adam(model.parameters(), lr=lr)"
   ],
   "metadata": {
    "collapsed": false,
    "ExecuteTime": {
     "end_time": "2025-03-12T16:40:50.530476Z",
     "start_time": "2025-03-12T16:40:50.518390800Z"
    }
   },
   "id": "cee05d7bffcbddab",
   "execution_count": 40
  },
  {
   "cell_type": "markdown",
   "source": [
    "## Define classification networks"
   ],
   "metadata": {
    "collapsed": false
   },
   "id": "395c36876a263770"
  },
  {
   "cell_type": "code",
   "outputs": [
    {
     "name": "stdout",
     "output_type": "stream",
     "text": [
      "model with 1.147M params\n"
     ]
    }
   ],
   "source": [
    "model_cls = nn.Sequential(\n",
    "    spectra_network(\n",
    "        input_dim=spectra_raw.shape[-1],\n",
    "        hidden_dim=hidden_dim,\n",
    "        output_dim=spectra_trans.shape[-1],\n",
    "    ),\n",
    "    spectra_network(\n",
    "        input_dim=spectra_trans.shape[-1],\n",
    "        hidden_dim=hidden_dim,\n",
    "        output_dim=n_classes,\n",
    "    )\n",
    ")\n",
    "print(f\"model with {sum(p.numel() for p in model_cls.parameters() if p.requires_grad) / 1e6:.3f}M params\")\n",
    "loss_fn = nn.CrossEntropyLoss()\n",
    "optimizer = torch.optim.Adam(model_cls.parameters(), lr=lr, weight_decay=l2)"
   ],
   "metadata": {
    "collapsed": false,
    "ExecuteTime": {
     "end_time": "2025-03-12T16:40:50.539166800Z",
     "start_time": "2025-03-12T16:40:50.528349800Z"
    }
   },
   "id": "7014bf706e19d002",
   "execution_count": 41
  },
  {
   "cell_type": "code",
   "outputs": [
    {
     "name": "stdout",
     "output_type": "stream",
     "text": [
      "model with 0.384M params\n"
     ]
    }
   ],
   "source": [
    "model_cls[0].load_state_dict(torch.load(rf'./models/autoenc_model_{seed}.pt', weights_only=True))\n",
    "for param in model_cls[0].parameters():\n",
    "    param.requires_grad = False\n",
    "print(f\"model with {sum(p.numel() for p in model_cls.parameters() if p.requires_grad) / 1e6:.3f}M params\")"
   ],
   "metadata": {
    "collapsed": false,
    "ExecuteTime": {
     "end_time": "2025-03-12T16:40:50.561177100Z",
     "start_time": "2025-03-12T16:40:50.537083500Z"
    }
   },
   "id": "783d1b7eb01553b3",
   "execution_count": 42
  },
  {
   "cell_type": "markdown",
   "source": [
    "## Classification train loop"
   ],
   "metadata": {
    "collapsed": false
   },
   "id": "2c2792904b5622ec"
  },
  {
   "cell_type": "code",
   "outputs": [],
   "source": [
    "training_losses,validation_losses = [],[]\n",
    "training_accs,validation_accs = [],[]\n",
    "training_f1ms,validation_f1ms = [],[]\n",
    "training_f1s,validation_f1s = [],[]\n",
    "lr_decreases = []\n",
    "current_iters = 0\n",
    "best_val_f1 = 0\n",
    "best_val_iter = 0\n",
    "stop_training=False"
   ],
   "metadata": {
    "collapsed": false,
    "ExecuteTime": {
     "end_time": "2025-03-12T16:40:50.561235800Z",
     "start_time": "2025-03-12T16:40:50.545279100Z"
    }
   },
   "id": "91034dc4ec349fc4",
   "execution_count": 43
  },
  {
   "cell_type": "code",
   "outputs": [
    {
     "name": "stdout",
     "output_type": "stream",
     "text": [
      "\n",
      " ✰ ✰ ✰ EPOCH 1 ✰ ✰ ✰ \n",
      "train : ██████████████████████████████████████████\n",
      "val   : ██████████████████████████████████████████\n",
      "TRAIN --- | Loss: 0.02637 | OA: 0.2959 | f1: 0.2906\n",
      "VAL ----- | Loss: 0.02352 | OA: 0.4587 | f1: 0.4627\n",
      "\n",
      " ✰ ✰ ✰ EPOCH 2 ✰ ✰ ✰ \n",
      "train : ██████████████████████████████████████████\n",
      "val   : ██████████████████████████████████████████\n",
      "TRAIN --- | Loss: 0.02143 | OA: 0.5109 | f1: 0.5257\n",
      "VAL ----- | Loss: 0.02042 | OA: 0.5616 | f1: 0.6001\n",
      "\n",
      " ✰ ✰ ✰ EPOCH 3 ✰ ✰ ✰ \n",
      "train : ██████████████████████████████████████████\n",
      "val   : ██████████████████████████████████████████\n",
      "TRAIN --- | Loss: 0.01889 | OA: 0.5918 | f1: 0.6117\n",
      "VAL ----- | Loss: 0.0187 | OA: 0.6036 | f1: 0.6488\n",
      "\n",
      " ✰ ✰ ✰ EPOCH 4 ✰ ✰ ✰ \n",
      "train : ██████████████████████████████████████████\n",
      "val   : ██████████████████████████████████████████\n",
      "TRAIN --- | Loss: 0.01736 | OA: 0.6269 | f1: 0.6509\n",
      "VAL ----- | Loss: 0.01785 | OA: 0.6236 | f1: 0.6669\n",
      "\n",
      " ✰ ✰ ✰ EPOCH 5 ✰ ✰ ✰ \n",
      "train : ██████████████████████████████████████████\n",
      "val   : ██████████████████████████████████████████\n",
      "TRAIN --- | Loss: 0.01625 | OA: 0.6491 | f1: 0.6784\n",
      "VAL ----- | Loss: 0.01665 | OA: 0.6371 | f1: 0.6876\n",
      "\n",
      " ✰ ✰ ✰ EPOCH 6 ✰ ✰ ✰ \n",
      "train : ██████████████████████████████████████████\n",
      "val   : ██████████████████████████████████████████\n",
      "TRAIN --- | Loss: 0.01546 | OA: 0.6673 | f1: 0.6954\n",
      "VAL ----- | Loss: 0.01595 | OA: 0.649 | f1: 0.6978\n",
      "\n",
      " ✰ ✰ ✰ EPOCH 7 ✰ ✰ ✰ \n",
      "train : ██████████████████████████████████████████\n",
      "val   : ██████████████████████████████████████████\n",
      "TRAIN --- | Loss: 0.01486 | OA: 0.6766 | f1: 0.7073\n",
      "VAL ----- | Loss: 0.01593 | OA: 0.65 | f1: 0.7021\n",
      "\n",
      " ✰ ✰ ✰ EPOCH 8 ✰ ✰ ✰ \n",
      "train : ██████████████████████████████████████████\n",
      "val   : ██████████████████████████████████████████\n",
      "TRAIN --- | Loss: 0.01428 | OA: 0.6857 | f1: 0.7189\n",
      "VAL ----- | Loss: 0.01496 | OA: 0.659 | f1: 0.7138\n",
      "\n",
      " ✰ ✰ ✰ EPOCH 9 ✰ ✰ ✰ \n",
      "train : ██████████████████████████████████████████\n",
      "val   : ██████████████████████████████████████████\n",
      "TRAIN --- | Loss: 0.01385 | OA: 0.6909 | f1: 0.7247\n",
      "VAL ----- | Loss: 0.01469 | OA: 0.6741 | f1: 0.7267\n",
      "\n",
      " ✰ ✰ ✰ EPOCH 10 ✰ ✰ ✰ \n",
      "train : ██████████████████████████████████████████\n",
      "val   : ██████████████████████████████████████████\n",
      "TRAIN --- | Loss: 0.0134 | OA: 0.6998 | f1: 0.7332\n",
      "VAL ----- | Loss: 0.01454 | OA: 0.662 | f1: 0.7155\n",
      "\n",
      " ✰ ✰ ✰ EPOCH 11 ✰ ✰ ✰ \n",
      "train : ██████████████████████████████████████████\n",
      "val   : ██████████████████████████████████████████\n",
      "TRAIN --- | Loss: 0.01308 | OA: 0.7025 | f1: 0.7379\n",
      "VAL ----- | Loss: 0.01396 | OA: 0.676 | f1: 0.7316\n",
      "\n",
      " ✰ ✰ ✰ EPOCH 12 ✰ ✰ ✰ \n",
      "train : ██████████████████████████████████████████\n",
      "val   : ██████████████████████████████████████████\n",
      "TRAIN --- | Loss: 0.01282 | OA: 0.7085 | f1: 0.7425\n",
      "VAL ----- | Loss: 0.01362 | OA: 0.6833 | f1: 0.733\n",
      "\n",
      " ✰ ✰ ✰ EPOCH 13 ✰ ✰ ✰ \n",
      "train : ██████████████████████████████████████████\n",
      "val   : ██████████████████████████████████████████\n",
      "TRAIN --- | Loss: 0.0126 | OA: 0.7112 | f1: 0.7463\n",
      "VAL ----- | Loss: 0.01346 | OA: 0.6846 | f1: 0.7392\n",
      "\n",
      " ✰ ✰ ✰ EPOCH 14 ✰ ✰ ✰ \n",
      "train : ██████████████████████████████████████████\n",
      "val   : ██████████████████████████████████████████\n",
      "TRAIN --- | Loss: 0.01234 | OA: 0.7132 | f1: 0.7487\n",
      "VAL ----- | Loss: 0.01319 | OA: 0.6839 | f1: 0.7376\n",
      "\n",
      " ✰ ✰ ✰ EPOCH 15 ✰ ✰ ✰ \n",
      "train : ██████████████████████████████████████████\n",
      "val   : ██████████████████████████████████████████\n",
      "TRAIN --- | Loss: 0.01216 | OA: 0.7165 | f1: 0.7533\n",
      "VAL ----- | Loss: 0.01282 | OA: 0.6953 | f1: 0.749\n",
      "\n",
      " ✰ ✰ ✰ EPOCH 16 ✰ ✰ ✰ \n",
      "train : ██████████████████████████████████████████\n",
      "val   : ██████████████████████████████████████████\n",
      "TRAIN --- | Loss: 0.01201 | OA: 0.7155 | f1: 0.7532\n",
      "VAL ----- | Loss: 0.01306 | OA: 0.6926 | f1: 0.7488\n",
      "\n",
      " ✰ ✰ ✰ EPOCH 17 ✰ ✰ ✰ \n",
      "train : ██████████████████████████████████████████\n",
      "val   : ██████████████████████████████████████████\n",
      "TRAIN --- | Loss: 0.01174 | OA: 0.7239 | f1: 0.7608\n",
      "VAL ----- | Loss: 0.01277 | OA: 0.6904 | f1: 0.748\n",
      "\n",
      " ✰ ✰ ✰ EPOCH 18 ✰ ✰ ✰ \n",
      "train : ██████████████████████████████████████████\n",
      "val   : ██████████████████████████████████████████\n",
      "TRAIN --- | Loss: 0.01162 | OA: 0.725 | f1: 0.7625\n",
      "VAL ----- | Loss: 0.01257 | OA: 0.6963 | f1: 0.7512\n",
      "\n",
      " ✰ ✰ ✰ EPOCH 19 ✰ ✰ ✰ \n",
      "train : ██████████████████████████████████████████\n",
      "val   : ██████████████████████████████████████████\n",
      "TRAIN --- | Loss: 0.01154 | OA: 0.7236 | f1: 0.7613\n",
      "VAL ----- | Loss: 0.01261 | OA: 0.6939 | f1: 0.7515\n",
      "\n",
      " ✰ ✰ ✰ EPOCH 20 ✰ ✰ ✰ \n",
      "train : ██████████████████████████████████████████\n",
      "val   : ██████████████████████████████████████████\n",
      "TRAIN --- | Loss: 0.01141 | OA: 0.7269 | f1: 0.7644\n",
      "VAL ----- | Loss: 0.01229 | OA: 0.7022 | f1: 0.7559\n",
      "\n",
      " ✰ ✰ ✰ EPOCH 21 ✰ ✰ ✰ \n",
      "train : ██████████████████████████████████████████\n",
      "val   : ██████████████████████████████████████████\n",
      "TRAIN --- | Loss: 0.01122 | OA: 0.727 | f1: 0.7646\n",
      "VAL ----- | Loss: 0.01238 | OA: 0.6978 | f1: 0.7536\n",
      "\n",
      " ✰ ✰ ✰ EPOCH 22 ✰ ✰ ✰ \n",
      "train : ██████████████████████████████████████████\n",
      "val   : ██████████████████████████████████████████\n",
      "TRAIN --- | Loss: 0.01114 | OA: 0.7304 | f1: 0.7671\n",
      "VAL ----- | Loss: 0.0122 | OA: 0.6986 | f1: 0.7562\n",
      "\n",
      " ✰ ✰ ✰ EPOCH 23 ✰ ✰ ✰ \n",
      "train : ██████████████████████████████████████████\n",
      "val   : ██████████████████████████████████████████\n",
      "TRAIN --- | Loss: 0.01105 | OA: 0.7315 | f1: 0.7694\n",
      "VAL ----- | Loss: 0.0121 | OA: 0.6952 | f1: 0.7501\n",
      "\n",
      " ✰ ✰ ✰ EPOCH 24 ✰ ✰ ✰ \n",
      "train : ██████████████████████████████████████████\n",
      "val   : ██████████████████████████████████████████\n",
      "TRAIN --- | Loss: 0.01096 | OA: 0.7311 | f1: 0.7689\n",
      "VAL ----- | Loss: 0.01206 | OA: 0.6998 | f1: 0.7559\n",
      "\n",
      " ✰ ✰ ✰ EPOCH 25 ✰ ✰ ✰ \n",
      "train : ██████████████████████████████████████████\n",
      "val   : ██████████████████████████████████████████\n",
      "TRAIN --- | Loss: 0.01087 | OA: 0.7346 | f1: 0.7715\n",
      "VAL ----- | Loss: 0.012 | OA: 0.6994 | f1: 0.7564\n",
      "\n",
      " ✰ ✰ ✰ EPOCH 26 ✰ ✰ ✰ \n",
      "train : ██████████████████████████████████████████\n",
      "val   : ██████████████████████████████████████████\n",
      "TRAIN --- | Loss: 0.01081 | OA: 0.7321 | f1: 0.7694\n",
      "VAL ----- | Loss: 0.01183 | OA: 0.7034 | f1: 0.76\n",
      "\n",
      " ✰ ✰ ✰ EPOCH 27 ✰ ✰ ✰ \n",
      "train : ██████████████████████████████████████████\n",
      "val   : ██████████████████████████████████████████\n",
      "TRAIN --- | Loss: 0.01074 | OA: 0.7344 | f1: 0.7722\n",
      "VAL ----- | Loss: 0.01185 | OA: 0.7011 | f1: 0.7566\n",
      "\n",
      " ✰ ✰ ✰ EPOCH 28 ✰ ✰ ✰ \n",
      "train : ██████████████████████████████████████████\n",
      "val   : ██████████████████████████████████████████\n",
      "TRAIN --- | Loss: 0.01068 | OA: 0.7331 | f1: 0.7725\n",
      "VAL ----- | Loss: 0.01168 | OA: 0.704 | f1: 0.7593\n",
      "\n",
      " ✰ ✰ ✰ EPOCH 29 ✰ ✰ ✰ \n",
      "train : ██████████████████████████████████████████\n",
      "val   : ██████████████████████████████████████████\n",
      "TRAIN --- | Loss: 0.01057 | OA: 0.7383 | f1: 0.776\n",
      "VAL ----- | Loss: 0.01162 | OA: 0.703 | f1: 0.7567\n",
      "\n",
      " ✰ ✰ ✰ EPOCH 30 ✰ ✰ ✰ \n",
      "train : ██████████████████████████████████████████\n",
      "val   : ██████████████████████████████████████████\n",
      "TRAIN --- | Loss: 0.01045 | OA: 0.7387 | f1: 0.7767\n",
      "VAL ----- | Loss: 0.01181 | OA: 0.6971 | f1: 0.7563\n",
      "DECREASING LR AND UNFREEZING INITIAL LAYERS\n",
      "\n",
      " ✰ ✰ ✰ EPOCH 31 ✰ ✰ ✰ \n",
      "train : ██████████████████████████████████████████\n",
      "val   : ██████████████████████████████████████████\n",
      "TRAIN --- | Loss: 0.01037 | OA: 0.7392 | f1: 0.7772\n",
      "VAL ----- | Loss: 0.01135 | OA: 0.7026 | f1: 0.755\n",
      "Val f1 plateaued, lr 1e-07 -> 1e-06\n",
      "\n",
      " ✰ ✰ ✰ EPOCH 32 ✰ ✰ ✰ \n",
      "train : ██████████████████████████████████████████\n",
      "val   : ██████████████████████████████████████████\n",
      "TRAIN --- | Loss: 0.01016 | OA: 0.7464 | f1: 0.7848\n",
      "VAL ----- | Loss: 0.0115 | OA: 0.7056 | f1: 0.76\n",
      "\n",
      " ✰ ✰ ✰ EPOCH 33 ✰ ✰ ✰ \n",
      "train : ██████████████████████████████████████████\n",
      "val   : ██████████████████████████████████████████\n",
      "TRAIN --- | Loss: 0.01002 | OA: 0.7481 | f1: 0.7868\n",
      "VAL ----- | Loss: 0.01142 | OA: 0.7052 | f1: 0.7616\n",
      "\n",
      " ✰ ✰ ✰ EPOCH 34 ✰ ✰ ✰ \n",
      "train : ██████████████████████████████████████████\n",
      "val   : ██████████████████████████████████████████\n",
      "TRAIN --- | Loss: 0.009801 | OA: 0.7511 | f1: 0.79\n",
      "VAL ----- | Loss: 0.01114 | OA: 0.709 | f1: 0.7657\n",
      "\n",
      " ✰ ✰ ✰ EPOCH 35 ✰ ✰ ✰ \n",
      "train : ██████████████████████████████████████████\n",
      "val   : ██████████████████████████████████████████\n",
      "TRAIN --- | Loss: 0.009693 | OA: 0.7555 | f1: 0.7932\n",
      "VAL ----- | Loss: 0.01115 | OA: 0.7078 | f1: 0.7647\n",
      "\n",
      " ✰ ✰ ✰ EPOCH 36 ✰ ✰ ✰ \n",
      "train : ██████████████████████████████████████████\n",
      "val   : ██████████████████████████████████████████\n",
      "TRAIN --- | Loss: 0.009669 | OA: 0.7568 | f1: 0.7943\n",
      "VAL ----- | Loss: 0.01145 | OA: 0.698 | f1: 0.7571\n",
      "\n",
      " ✰ ✰ ✰ EPOCH 37 ✰ ✰ ✰ \n",
      "train : ██████████████████████████████████████████\n",
      "val   : ██████████████████████████████████████████\n",
      "TRAIN --- | Loss: 0.009563 | OA: 0.7568 | f1: 0.7949\n",
      "VAL ----- | Loss: 0.01114 | OA: 0.7075 | f1: 0.7611\n",
      "\n",
      " ✰ ✰ ✰ EPOCH 38 ✰ ✰ ✰ \n",
      "train : ██████████████████████████████████████████\n",
      "val   : ██████████████████████████████████████████\n",
      "TRAIN --- | Loss: 0.0095 | OA: 0.7596 | f1: 0.7967\n",
      "VAL ----- | Loss: 0.01132 | OA: 0.7028 | f1: 0.7596\n",
      "\n",
      " ✰ ✰ ✰ EPOCH 39 ✰ ✰ ✰ \n",
      "train : ██████████████████████████████████████████\n",
      "val   : ██████████████████████████████████████████\n",
      "TRAIN --- | Loss: 0.009421 | OA: 0.761 | f1: 0.7981\n",
      "VAL ----- | Loss: 0.01135 | OA: 0.7026 | f1: 0.7601\n",
      "\n",
      " ✰ ✰ ✰ EPOCH 40 ✰ ✰ ✰ \n",
      "train : ██████████████████████████████████████████\n",
      "val   : ██████████████████████████████████████████\n",
      "TRAIN --- | Loss: 0.009352 | OA: 0.7647 | f1: 0.8023\n",
      "VAL ----- | Loss: 0.01112 | OA: 0.7013 | f1: 0.7595\n",
      "\n",
      " ✰ ✰ ✰ EPOCH 41 ✰ ✰ ✰ \n",
      "train : ██████████████████████████████████████████\n",
      "val   : ██████████████████████████████████████████\n",
      "TRAIN --- | Loss: 0.009293 | OA: 0.7625 | f1: 0.8\n",
      "VAL ----- | Loss: 0.01099 | OA: 0.7103 | f1: 0.7639\n",
      "\n",
      " ✰ ✰ ✰ EPOCH 42 ✰ ✰ ✰ \n",
      "train : ██████████████████████████████████████████\n",
      "val   : ██████████████████████████████████████████\n",
      "TRAIN --- | Loss: 0.009213 | OA: 0.7658 | f1: 0.8023\n",
      "VAL ----- | Loss: 0.01099 | OA: 0.7112 | f1: 0.7654\n",
      "\n",
      " ✰ ✰ ✰ EPOCH 43 ✰ ✰ ✰ \n",
      "train : ██████████████████████████████████████████\n",
      "val   : ██████████████████████████████████████████\n",
      "TRAIN --- | Loss: 0.009182 | OA: 0.7671 | f1: 0.8053\n",
      "VAL ----- | Loss: 0.01106 | OA: 0.7024 | f1: 0.7601\n",
      "\n",
      " ✰ ✰ ✰ EPOCH 44 ✰ ✰ ✰ \n",
      "train : ██████████████████████████████████████████\n",
      "val   : ██████████████████████████████████████████\n",
      "TRAIN --- | Loss: 0.009137 | OA: 0.7664 | f1: 0.8044\n",
      "VAL ----- | Loss: 0.01104 | OA: 0.7057 | f1: 0.7618\n",
      "\n",
      " ✰ ✰ ✰ EPOCH 45 ✰ ✰ ✰ \n",
      "train : ██████████████████████████████████████████\n",
      "val   : ██████████████████████████████████████████\n",
      "TRAIN --- | Loss: 0.009106 | OA: 0.7687 | f1: 0.8063\n",
      "VAL ----- | Loss: 0.01103 | OA: 0.7056 | f1: 0.7626\n",
      "\n",
      " ✰ ✰ ✰ EPOCH 46 ✰ ✰ ✰ \n",
      "train : ██████████████████████████████████████████\n",
      "val   : ██████████████████████████████████████████\n",
      "TRAIN --- | Loss: 0.009025 | OA: 0.7719 | f1: 0.8091\n",
      "VAL ----- | Loss: 0.01107 | OA: 0.7051 | f1: 0.7617\n",
      "\n",
      " ✰ ✰ ✰ EPOCH 47 ✰ ✰ ✰ \n",
      "train : ██████████████████████████████████████████\n",
      "val   : ██████████████████████████████████████████\n",
      "TRAIN --- | Loss: 0.00909 | OA: 0.7688 | f1: 0.8061\n",
      "VAL ----- | Loss: 0.01101 | OA: 0.7103 | f1: 0.7643\n",
      "\n",
      " ✰ ✰ ✰ EPOCH 48 ✰ ✰ ✰ \n",
      "train : ██████████████████████████████████████████\n",
      "val   : ██████████████████████████████████████████\n",
      "TRAIN --- | Loss: 0.009002 | OA: 0.7708 | f1: 0.8072\n",
      "VAL ----- | Loss: 0.01097 | OA: 0.7135 | f1: 0.7675\n",
      "\n",
      " ✰ ✰ ✰ EPOCH 49 ✰ ✰ ✰ \n",
      "train : ██████████████████████████████████████████\n",
      "val   : ██████████████████████████████████████████\n",
      "TRAIN --- | Loss: 0.008888 | OA: 0.7757 | f1: 0.8119\n",
      "VAL ----- | Loss: 0.01083 | OA: 0.7137 | f1: 0.769\n",
      "\n",
      " ✰ ✰ ✰ EPOCH 50 ✰ ✰ ✰ \n",
      "train : ██████████████████████████████████████████\n",
      "val   : ██████████████████████████████████████████\n",
      "TRAIN --- | Loss: 0.008894 | OA: 0.7732 | f1: 0.8105\n",
      "VAL ----- | Loss: 0.01102 | OA: 0.7123 | f1: 0.7671\n",
      "\n",
      " ✰ ✰ ✰ EPOCH 51 ✰ ✰ ✰ \n",
      "train : ██████████████████████████████████████████\n",
      "val   : ██████████████████████████████████████████\n",
      "TRAIN --- | Loss: 0.008857 | OA: 0.7762 | f1: 0.8124\n",
      "VAL ----- | Loss: 0.0109 | OA: 0.7103 | f1: 0.7665\n",
      "\n",
      " ✰ ✰ ✰ EPOCH 52 ✰ ✰ ✰ \n",
      "train : ██████████████████████████████████████████\n",
      "val   : ██████████████████████████████████████████\n",
      "TRAIN --- | Loss: 0.008883 | OA: 0.7723 | f1: 0.8089\n",
      "VAL ----- | Loss: 0.011 | OA: 0.7101 | f1: 0.7654\n",
      "\n",
      " ✰ ✰ ✰ EPOCH 53 ✰ ✰ ✰ \n",
      "train : ██████████████████████████████████████████\n",
      "val   : ██████████████████████████████████████████\n",
      "TRAIN --- | Loss: 0.008871 | OA: 0.7742 | f1: 0.8112\n",
      "VAL ----- | Loss: 0.01077 | OA: 0.7141 | f1: 0.7675\n",
      "\n",
      " ✰ ✰ ✰ EPOCH 54 ✰ ✰ ✰ \n",
      "train : ██████████████████████████████████████████\n",
      "val   : ██████████████████████████████████████████\n",
      "TRAIN --- | Loss: 0.008816 | OA: 0.7771 | f1: 0.8141\n",
      "VAL ----- | Loss: 0.01125 | OA: 0.7017 | f1: 0.7603\n",
      "\n",
      " ✰ ✰ ✰ EPOCH 55 ✰ ✰ ✰ \n",
      "train : ██████████████████████████████████████████\n",
      "val   : ██████████████████████████████████████████\n",
      "TRAIN --- | Loss: 0.008742 | OA: 0.78 | f1: 0.8164\n",
      "VAL ----- | Loss: 0.01082 | OA: 0.7144 | f1: 0.7691\n",
      "\n",
      " ✰ ✰ ✰ EPOCH 56 ✰ ✰ ✰ \n",
      "train : ██████████████████████████████████████████\n",
      "val   : ██████████████████████████████████████████\n",
      "TRAIN --- | Loss: 0.008758 | OA: 0.777 | f1: 0.8138\n",
      "VAL ----- | Loss: 0.01084 | OA: 0.7174 | f1: 0.772\n",
      "\n",
      " ✰ ✰ ✰ EPOCH 57 ✰ ✰ ✰ \n",
      "train : ██████████████████████████████████████████\n",
      "val   : ██████████████████████████████████████████\n",
      "TRAIN --- | Loss: 0.008713 | OA: 0.7794 | f1: 0.8156\n",
      "VAL ----- | Loss: 0.01075 | OA: 0.72 | f1: 0.7736\n",
      "\n",
      " ✰ ✰ ✰ EPOCH 58 ✰ ✰ ✰ \n",
      "train : ██████████████████████████████████████████\n",
      "val   : ██████████████████████████████████████████\n",
      "TRAIN --- | Loss: 0.008617 | OA: 0.7846 | f1: 0.8204\n",
      "VAL ----- | Loss: 0.01084 | OA: 0.7131 | f1: 0.7668\n",
      "\n",
      " ✰ ✰ ✰ EPOCH 59 ✰ ✰ ✰ \n",
      "train : ██████████████████████████████████████████\n",
      "val   : ██████████████████████████████████████████\n",
      "TRAIN --- | Loss: 0.008705 | OA: 0.781 | f1: 0.8175\n",
      "VAL ----- | Loss: 0.01085 | OA: 0.713 | f1: 0.7683\n",
      "\n",
      " ✰ ✰ ✰ EPOCH 60 ✰ ✰ ✰ \n",
      "train : ██████████████████████████████████████████\n",
      "val   : ██████████████████████████████████████████\n",
      "TRAIN --- | Loss: 0.008664 | OA: 0.7788 | f1: 0.8149\n",
      "VAL ----- | Loss: 0.0109 | OA: 0.7079 | f1: 0.7647\n"
     ]
    },
    {
     "data": {
      "text/plain": "<All keys matched successfully>"
     },
     "execution_count": 44,
     "metadata": {},
     "output_type": "execute_result"
    }
   ],
   "source": [
    "for epoch in range(epochs):\n",
    "    \n",
    "    if epoch == epochs // 2:\n",
    "        print(\"DECREASING LR AND UNFREEZING INITIAL LAYERS\")\n",
    "        lr *= 0.1\n",
    "        for param in model_cls[0].parameters():\n",
    "            param.requires_grad = True\n",
    "    \n",
    "    print(f\"\\n ✰ ✰ ✰ EPOCH {epoch+1} ✰ ✰ ✰ \")\n",
    "    \n",
    "    # reset running metrics\n",
    "    running_loss_train, running_loss_val = 0, 0\n",
    "    train_preds,train_targets = [],[]\n",
    "    val_preds,val_targets = [],[]\n",
    "    \n",
    "    # Train loop\n",
    "    model_cls.train()\n",
    "    batch_frac = 42 / (len(train_loader))\n",
    "    for batch_idx, (data_raw, data_trans, label) in enumerate(train_loader):\n",
    "        print(f\"train : {'█'*int(batch_idx*batch_frac)}\", end=\"\\r\")\n",
    "        \n",
    "        \n",
    "        # Push data through model\n",
    "        optimizer.zero_grad()\n",
    "        out = model_cls(data_raw)\n",
    "        \n",
    "        # Calculate loss\n",
    "        loss = loss_fn(out,label)\n",
    "        loss.backward() # backprop\n",
    "        optimizer.step()\n",
    "        \n",
    "        # Calculate metrics\n",
    "        running_loss_train += loss.cpu().item()\n",
    "        preds = out.argmax(dim=1)\n",
    "        train_preds.extend(preds.detach().cpu().numpy())\n",
    "        train_targets.extend(label.detach().cpu().numpy())\n",
    "    print(f\"train : {'█'*42}\")\n",
    "        \n",
    "    # Validate loop\n",
    "    model_cls.eval()\n",
    "    batch_frac = 42 / len(val_loader)\n",
    "    with torch.no_grad():\n",
    "        for batch_idx, (data_raw, data_trans, label) in enumerate(val_loader):\n",
    "            print(f\"val   : {'█'*int(batch_idx*batch_frac)}\", end=\"\\r\")\n",
    "            \n",
    "            # Push data through model\n",
    "            out = model_cls(data_raw)\n",
    "            \n",
    "            # Calculate loss\n",
    "            loss = loss_fn(out,label)\n",
    "            \n",
    "            # Calculate metrics\n",
    "            running_loss_val += loss.cpu().item()\n",
    "            preds = out.argmax(dim=1)\n",
    "            val_preds.extend(preds.detach().cpu().numpy())\n",
    "            val_targets.extend(label.detach().cpu().numpy())\n",
    "    print(f\"val   : {'█'*42}\")\n",
    "    \n",
    "    # calculate epoch metrics for train set\n",
    "    train_acc = accuracy_score(train_targets, train_preds); training_accs.append(train_acc)\n",
    "    train_f1m = f1_score(train_targets, train_preds, average='macro'); training_f1ms.append(train_f1m)\n",
    "    train_f1 = f1_score(train_targets, train_preds, average=None); training_f1s.append(train_f1)\n",
    "    train_loss = running_loss_train / (len(dataset_train)); training_losses.append(train_loss)\n",
    "    \n",
    "    # calculate epoch metrics for val set\n",
    "    val_acc = accuracy_score(val_targets, val_preds); validation_accs.append(val_acc)\n",
    "    val_f1m = f1_score(val_targets, val_preds, average='macro'); validation_f1ms.append(val_f1m)\n",
    "    val_f1 = f1_score(val_targets, val_preds, average=None); validation_f1s.append(val_f1)\n",
    "    val_loss = running_loss_val / (len(dataset_val)); validation_losses.append(val_loss)\n",
    "    \n",
    "    # Update\n",
    "    print(f\"TRAIN --- | Loss: {train_loss:.4} | OA: {train_acc:.4} | f1: {train_f1m:.4}\")\n",
    "    print(f\"VAL ----- | Loss: {val_loss:.4} | OA: {val_acc:.4} | f1: {val_f1m:.4}\")\n",
    "    \n",
    "    new_lr = optimizer.param_groups[0]['lr']\n",
    "    if new_lr != lr:\n",
    "        print(f\"Val f1 plateaued, lr {lr} -> {new_lr}\")\n",
    "        lr = new_lr\n",
    "        lr_decreases.append(epoch)\n",
    "        if len(lr_decreases) >= 3: \n",
    "            print(\"Val f1 decreased thrice, ending training early\")\n",
    "            break\n",
    "\n",
    "    if val_f1m > best_val_f1:\n",
    "        best_val_f1 = val_f1m\n",
    "        best_val_epoch = epoch\n",
    "        torch.save(model_cls.state_dict(), rf'./models/model_cls_convert_finetune_{seed}.pt')\n",
    "\n",
    "model_cls.load_state_dict(torch.load(rf'./models/model_cls_convert_finetune_{seed}.pt', weights_only=True))"
   ],
   "metadata": {
    "collapsed": false,
    "ExecuteTime": {
     "end_time": "2025-03-12T16:46:31.831513Z",
     "start_time": "2025-03-12T16:40:50.556034400Z"
    }
   },
   "id": "87017572ee2e50f7",
   "execution_count": 44
  },
  {
   "cell_type": "code",
   "outputs": [
    {
     "name": "stdout",
     "output_type": "stream",
     "text": [
      "TEST ---- | Loss: 0.6947 | OA: 0.7005 | f1: 0.7578\n",
      "epithelium_n         : 0.739\n",
      "stroma_n             : 0.6018\n",
      "epithelium_c         : 0.726\n",
      "stroma_c             : 0.6059\n",
      "corpora_amylacea     : 0.9382\n",
      "blood                : 0.9359\n"
     ]
    }
   ],
   "source": [
    "# Test\n",
    "running_loss_test = 0\n",
    "test_preds, test_targets = [], []\n",
    "model_cls.eval()\n",
    "with torch.no_grad():\n",
    "    for batch_idx, (data_raw, data_trans, label) in enumerate(test_loader):\n",
    "        \n",
    "        # Push data through model\n",
    "            out = model_cls(data_raw)\n",
    "            \n",
    "            # Calculate loss\n",
    "            loss = loss_fn(out,label)\n",
    "            \n",
    "            # Calculate metrics\n",
    "            running_loss_test += loss.cpu().item()\n",
    "            preds = out.argmax(dim=1)\n",
    "            test_preds.extend(preds.detach().cpu().numpy())\n",
    "            test_targets.extend(label.detach().cpu().numpy())\n",
    "\n",
    "# calculate test set metrics\n",
    "test_acc = accuracy_score(test_targets, test_preds)\n",
    "test_f1m = f1_score(test_targets, test_preds, average='macro')\n",
    "test_f1 = f1_score(test_targets, test_preds, average=None)\n",
    "test_loss = running_loss_test / batch_idx\n",
    "\n",
    "print(f\"TEST ---- | Loss: {test_loss:.4} | OA: {test_acc:.4} | f1: {test_f1m:.4}\")\n",
    "for cls_idx, f1 in enumerate(test_f1):\n",
    "    print(f\"{annotation_class_names[cls_idx]}{(20 - len(annotation_class_names[cls_idx])) * ' '} : {f1:.4}\")"
   ],
   "metadata": {
    "collapsed": false,
    "ExecuteTime": {
     "end_time": "2025-03-12T16:46:32.554948600Z",
     "start_time": "2025-03-12T16:46:31.829369600Z"
    }
   },
   "id": "78e620a2c9995297",
   "execution_count": 45
  },
  {
   "cell_type": "markdown",
   "source": [
    "# Eval"
   ],
   "metadata": {
    "collapsed": false
   },
   "id": "98b68876112ab3ae"
  },
  {
   "cell_type": "code",
   "outputs": [
    {
     "data": {
      "text/plain": "<Figure size 1600x500 with 3 Axes>",
      "image/png": "[encoded data removed]"
     },
     "metadata": {},
     "output_type": "display_data"
    }
   ],
   "source": [
    "fig,ax = plt.subplots(1,3,figsize=(16,5))\n",
    "ax[0].plot(np.arange(1,len(training_losses)+1),np.array(training_losses),color='cornflowerblue',label=\"train\")\n",
    "ax[0].plot(np.arange(1,len(validation_losses)+1),np.array(validation_losses),color='orange',label=\"validation\")\n",
    "ax[0].scatter(len(validation_losses),test_loss,color='green',label=\"test\",marker=\"x\")\n",
    "ax[0].set_title(\"loss curves\"); ax[0].legend()\n",
    "\n",
    "ax[1].plot(np.arange(1,len(training_accs)+1),np.array(training_accs),color='cornflowerblue',label=\"train\")\n",
    "ax[1].plot(np.arange(1,len(validation_accs)+1),np.array(validation_accs),color='orange',label=\"validation\")\n",
    "ax[1].scatter(len(validation_losses),test_acc,color='green',label=\"test\",marker=\"x\")\n",
    "ax[1].set_title(\"accuracy\"); ax[1].legend()\n",
    "\n",
    "ax[2].plot(np.arange(1,len(training_f1ms)+1),np.array(training_f1ms),color='cornflowerblue',label=\"train\")\n",
    "ax[2].plot(np.arange(1,len(validation_f1ms)+1),np.array(validation_f1ms),color='orange',label=\"validation\")\n",
    "ax[2].scatter(len(validation_losses),test_f1m,color='green',label=\"test\",marker=\"x\")\n",
    "ax[2].set_title(\"macro f1\"); ax[2].legend()\n",
    "\n",
    "for lrd in lr_decreases:\n",
    "    ax[0].axvline(x=lrd, ymin=0, ymax=1, color='grey')\n",
    "    ax[1].axvline(x=lrd, ymin=0, ymax=1, color='grey')\n",
    "    ax[2].axvline(x=lrd, ymin=0, ymax=1, color='grey')\n",
    "\n",
    "ax[0].axvline(x=best_val_epoch, ymin=0, ymax=1, color='red',alpha=0.3)\n",
    "ax[1].axvline(x=best_val_epoch, ymin=0, ymax=1, color='red',alpha=0.3)\n",
    "ax[2].axvline(x=best_val_epoch, ymin=0, ymax=1, color='red',alpha=0.3)\n",
    "\n",
    "plt.tight_layout()"
   ],
   "metadata": {
    "collapsed": false,
    "ExecuteTime": {
     "end_time": "2025-03-12T16:46:33.074170700Z",
     "start_time": "2025-03-12T16:46:32.555946Z"
    }
   },
   "id": "bcc280a451b299f5",
   "execution_count": 46
  }
 ],
 "metadata": {
  "kernelspec": {
   "display_name": "Python 3",
   "language": "python",
   "name": "python3"
  },
  "language_info": {
   "codemirror_mode": {
    "name": "ipython",
    "version": 2
   },
   "file_extension": ".py",
   "mimetype": "text/x-python",
   "name": "python",
   "nbconvert_exporter": "python",
   "pygments_lexer": "ipython2",
   "version": "2.7.6"
  }
 },
 "nbformat": 4,
 "nbformat_minor": 5
}
