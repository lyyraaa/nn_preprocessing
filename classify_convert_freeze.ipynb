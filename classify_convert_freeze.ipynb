{
 "cells": [
  {
   "cell_type": "code",
   "execution_count": 21,
   "id": "initial_id",
   "metadata": {
    "collapsed": true,
    "ExecuteTime": {
     "end_time": "2025-03-12T16:23:27.227834900Z",
     "start_time": "2025-03-12T16:23:27.170875600Z"
    }
   },
   "outputs": [],
   "source": [
    "import numpy as np\n",
    "from matplotlib import pyplot as plt\n",
    "import torch\n",
    "from torch import nn\n",
    "from sklearn.model_selection import train_test_split, KFold\n",
    "from sklearn.metrics import accuracy_score, f1_score"
   ]
  },
  {
   "cell_type": "markdown",
   "source": [
    "## Experiment Parameters"
   ],
   "metadata": {
    "collapsed": false
   },
   "id": "318379b4c9456f39"
  },
  {
   "cell_type": "code",
   "outputs": [],
   "source": [
    "# Experiment level\n",
    "seed = 42\n",
    "torch.manual_seed(seed) # set random seed for reproducibility\n",
    "\n",
    "# Data loading\n",
    "test_set_fraction = 0.2\n",
    "val_set_fraction = 0.2\n",
    "batch_size= 64\n",
    "n_classes = 6\n",
    "\n",
    "# Network parameters\n",
    "hidden_dim = 256\n",
    "\n",
    "# Training schedule\n",
    "lr = 1e-6\n",
    "l2 = 1e-2\n",
    "epochs = 60"
   ],
   "metadata": {
    "collapsed": false,
    "ExecuteTime": {
     "end_time": "2025-03-12T16:23:27.243655800Z",
     "start_time": "2025-03-12T16:23:27.230955100Z"
    }
   },
   "id": "43fc33cf0cc9608a",
   "execution_count": 22
  },
  {
   "cell_type": "markdown",
   "source": [
    "## Import sample data"
   ],
   "metadata": {
    "collapsed": false
   },
   "id": "e6c2ff0ba40d36a5"
  },
  {
   "cell_type": "code",
   "outputs": [
    {
     "name": "stdout",
     "output_type": "stream",
     "text": [
      "Loaded 49361 spectra from 228 cores from 100 patients\n"
     ]
    }
   ],
   "source": [
    "root_dir = r'C:/Users/w37262do/Documents/git/lbp_3d/data/'\n",
    "spectra_raw = np.load(root_dir+'all_raw_spectra.npy') \n",
    "spectra_trans = np.load(root_dir+'all_transformed_spectra.npy') * 1000\n",
    "core_ids = np.load(root_dir+'all_core_indices.npy')\n",
    "patient_ids = np.load(root_dir+'all_core_pids.npy')\n",
    "tissue_classes = np.load(root_dir+'all_tissue_classes.npy')\n",
    "wavenumbers_raw = np.load(root_dir+'wavenumbers.npy')\n",
    "wavenumbers_trans = np.load(root_dir+'wavenumbers_dougal1_2nd.npy')\n",
    "annotation_class_names = np.array(['epithelium_n','stroma_n','epithelium_c','stroma_c','corpora_amylacea','blood'])\n",
    "annotation_class_colors = np.array([[0,255,0],[128,0,128],[255,0,255],[0,0,255],[255,165,0],[255,0,0]])\n",
    "n_classes = len(np.unique(tissue_classes))\n",
    "print(f\"Loaded {len(spectra_raw)} spectra from {len(np.unique(core_ids))} cores from {len(np.unique(patient_ids))} patients\")"
   ],
   "metadata": {
    "collapsed": false,
    "ExecuteTime": {
     "end_time": "2025-03-12T16:23:28.097082Z",
     "start_time": "2025-03-12T16:23:27.247772Z"
    }
   },
   "id": "162152a29cd6d12a",
   "execution_count": 23
  },
  {
   "cell_type": "markdown",
   "source": [
    "## Define data split, dataloaders and datasets\n"
   ],
   "metadata": {
    "collapsed": false
   },
   "id": "23e8a986a2b7268"
  },
  {
   "cell_type": "code",
   "outputs": [
    {
     "name": "stdout",
     "output_type": "stream",
     "text": [
      "Spectra per data split:\n",
      "\tTrain: 29785\n",
      "\tVal: 9231\n",
      "\tTest: 10345\n"
     ]
    }
   ],
   "source": [
    "# split patients into train, val, test sets\n",
    "unique_pids = np.unique(patient_ids)\n",
    "pids_trainval, pids_test, _, _ = train_test_split(unique_pids, np.zeros_like(unique_pids), test_size=0.2, random_state=seed)\n",
    "pids_train, pids_val, _, _ = train_test_split(pids_trainval, np.zeros_like(pids_trainval), test_size=0.25, random_state=seed)\n",
    "# Get indexes for which spectra are in each set\n",
    "where_train = np.where(np.isin(patient_ids,pids_train))\n",
    "where_val = np.where(np.isin(patient_ids,pids_val))\n",
    "where_test = np.where(np.isin(patient_ids,pids_test))\n",
    "print(f\"Spectra per data split:\\n\\tTrain: {len(where_train[0])}\\n\\tVal: {len(where_val[0])}\\n\\tTest: {len(where_test[0])}\")"
   ],
   "metadata": {
    "collapsed": false,
    "ExecuteTime": {
     "end_time": "2025-03-12T16:23:28.108020100Z",
     "start_time": "2025-03-12T16:23:28.092897700Z"
    }
   },
   "id": "f107e76dc407618c",
   "execution_count": 24
  },
  {
   "cell_type": "code",
   "outputs": [
    {
     "name": "stdout",
     "output_type": "stream",
     "text": [
      "loader sizes:\n",
      "\ttrain: 466 batches\n",
      "\tval: 145 batches\n",
      "\ttest: 162 batches\n"
     ]
    }
   ],
   "source": [
    "# define custom dataset class, inheriting from torch.utils.data.Dataset\n",
    "# The three functions here must be defined when inheriting from torch.utils.data.Dataset\n",
    "class spectra_dataset(torch.utils.data.Dataset):\n",
    "    def __init__(self, spectra_raw, spectra_trans, labels):\n",
    "        self.spectra_raw = spectra_raw\n",
    "        self.spectra_trans = spectra_trans\n",
    "        self.labels = labels\n",
    "\n",
    "    # Function called to determine number of items in dataset\n",
    "    def __len__(self):\n",
    "        return len(self.spectra_raw)\n",
    "        \n",
    "    # Function called when retrieving a single item from dataset\n",
    "    # Items are indexed from [0 -> self.__len__]\n",
    "    def __getitem__(self, idx):\n",
    "        # get spectrum at idx, then convert from numpy array to torch tensor\n",
    "        spectrum = torch.from_numpy(self.spectra_raw[idx]).float() # torch (generally) expects float dtype for continuous data\n",
    "        \n",
    "        # get label, then convert it to a tensor also\n",
    "        trans = torch.from_numpy(self.spectra_trans[idx]).float() # torch expects labels to be long int\n",
    "        \n",
    "        label = torch.tensor(self.labels[idx]).long()\n",
    "        \n",
    "        return spectrum, trans, label\n",
    "\n",
    "# Define dataset objects for each data split\n",
    "dataset_train = spectra_dataset(\n",
    "    spectra_raw[where_train], spectra_trans[where_train], tissue_classes[where_train]\n",
    ")\n",
    "\n",
    "dataset_val = spectra_dataset(\n",
    "    spectra_raw[where_val], spectra_trans[where_val], tissue_classes[where_val]\n",
    ")\n",
    "\n",
    "dataset_test = spectra_dataset(\n",
    "    spectra_raw[where_test], spectra_trans[where_test], tissue_classes[where_test]\n",
    ")\n",
    "\n",
    "# define dataloader objects for each data split\n",
    "# Batch size determines how many items are loaded and stacked together\n",
    "# Drop last ensures that every item is used; odd-shaped final batch is still used.\n",
    "train_loader = torch.utils.data.DataLoader(dataset_train, batch_size=batch_size, shuffle=True, drop_last=False)\n",
    "val_loader = torch.utils.data.DataLoader(dataset_val, batch_size=batch_size, shuffle=True, drop_last=False)\n",
    "test_loader = torch.utils.data.DataLoader(dataset_test, batch_size=batch_size, shuffle=False, drop_last=False)\n",
    "print(f\"loader sizes:\\n\\ttrain: {len(train_loader)} batches\\n\\tval: {len(val_loader)} batches\\n\\ttest: {len(test_loader)} batches\")"
   ],
   "metadata": {
    "collapsed": false,
    "ExecuteTime": {
     "end_time": "2025-03-12T16:23:28.576411600Z",
     "start_time": "2025-03-12T16:23:28.103878600Z"
    }
   },
   "id": "888ba21c75b35d06",
   "execution_count": 25
  },
  {
   "cell_type": "markdown",
   "source": [
    "## Define network"
   ],
   "metadata": {
    "collapsed": false
   },
   "id": "6855bb015bb20cbf"
  },
  {
   "cell_type": "code",
   "outputs": [
    {
     "name": "stdout",
     "output_type": "stream",
     "text": [
      "model with 0.763M params\n"
     ]
    }
   ],
   "source": [
    "class spectra_network(nn.Module):\n",
    "    def __init__(self, input_dim, hidden_dim, output_dim):\n",
    "        super().__init__()\n",
    "        \n",
    "        self.input_norm = nn.BatchNorm1d(input_dim)\n",
    "        \n",
    "        self.activation = nn.GELU()\n",
    "        \n",
    "        self.autoenc = nn.Sequential(\n",
    "            nn.Linear(input_dim,hidden_dim),\n",
    "            self.activation,\n",
    "            nn.BatchNorm1d(hidden_dim),\n",
    "            nn.Linear(hidden_dim,hidden_dim),\n",
    "            self.activation,\n",
    "            nn.BatchNorm1d(hidden_dim),\n",
    "            nn.Linear(hidden_dim,hidden_dim),\n",
    "            self.activation,\n",
    "            nn.BatchNorm1d(hidden_dim),\n",
    "            nn.Linear(hidden_dim,output_dim),\n",
    "        )\n",
    "    \n",
    "    def forward(self, x):\n",
    "        x = self.input_norm(x)\n",
    "        x = self.autoenc(x)\n",
    "        return x\n",
    "\n",
    "model = spectra_network(\n",
    "    input_dim=spectra_raw.shape[-1],\n",
    "    hidden_dim=hidden_dim,\n",
    "    output_dim=spectra_trans.shape[-1],\n",
    ")\n",
    "print(f\"model with {sum(p.numel() for p in model.parameters() if p.requires_grad) / 1e6:.3f}M params\")\n",
    "loss_fn = nn.MSELoss()\n",
    "optimizer = torch.optim.Adam(model.parameters(), lr=lr)"
   ],
   "metadata": {
    "collapsed": false,
    "ExecuteTime": {
     "end_time": "2025-03-12T16:23:28.589913500Z",
     "start_time": "2025-03-12T16:23:28.571026400Z"
    }
   },
   "id": "cee05d7bffcbddab",
   "execution_count": 26
  },
  {
   "cell_type": "markdown",
   "source": [
    "## Define classification networks"
   ],
   "metadata": {
    "collapsed": false
   },
   "id": "395c36876a263770"
  },
  {
   "cell_type": "code",
   "outputs": [
    {
     "name": "stdout",
     "output_type": "stream",
     "text": [
      "model with 1.147M params\n"
     ]
    }
   ],
   "source": [
    "model_cls = nn.Sequential(\n",
    "    spectra_network(\n",
    "        input_dim=spectra_raw.shape[-1],\n",
    "        hidden_dim=hidden_dim,\n",
    "        output_dim=spectra_trans.shape[-1],\n",
    "    ),\n",
    "    spectra_network(\n",
    "        input_dim=spectra_trans.shape[-1],\n",
    "        hidden_dim=hidden_dim,\n",
    "        output_dim=n_classes,\n",
    "    )\n",
    ")\n",
    "print(f\"model with {sum(p.numel() for p in model_cls.parameters() if p.requires_grad) / 1e6:.3f}M params\")\n",
    "loss_fn = nn.CrossEntropyLoss()\n",
    "optimizer = torch.optim.Adam(model_cls.parameters(), lr=lr, weight_decay=l2)"
   ],
   "metadata": {
    "collapsed": false,
    "ExecuteTime": {
     "end_time": "2025-03-12T16:23:28.634587100Z",
     "start_time": "2025-03-12T16:23:28.582518100Z"
    }
   },
   "id": "7014bf706e19d002",
   "execution_count": 27
  },
  {
   "cell_type": "code",
   "outputs": [
    {
     "name": "stdout",
     "output_type": "stream",
     "text": [
      "model with 0.384M params\n"
     ]
    }
   ],
   "source": [
    "model_cls[0].load_state_dict(torch.load(rf'./models/autoenc_model_{seed}.pt', weights_only=True))\n",
    "for param in model_cls[0].parameters():\n",
    "    param.requires_grad = False\n",
    "print(f\"model with {sum(p.numel() for p in model_cls.parameters() if p.requires_grad) / 1e6:.3f}M params\")"
   ],
   "metadata": {
    "collapsed": false,
    "ExecuteTime": {
     "end_time": "2025-03-12T16:23:28.635654Z",
     "start_time": "2025-03-12T16:23:28.595513900Z"
    }
   },
   "id": "783d1b7eb01553b3",
   "execution_count": 28
  },
  {
   "cell_type": "markdown",
   "source": [
    "## Classification train loop"
   ],
   "metadata": {
    "collapsed": false
   },
   "id": "2c2792904b5622ec"
  },
  {
   "cell_type": "code",
   "outputs": [],
   "source": [
    "training_losses,validation_losses = [],[]\n",
    "training_accs,validation_accs = [],[]\n",
    "training_f1ms,validation_f1ms = [],[]\n",
    "training_f1s,validation_f1s = [],[]\n",
    "lr_decreases = []\n",
    "current_iters = 0\n",
    "best_val_f1 = 0\n",
    "best_val_iter = 0\n",
    "stop_training=False"
   ],
   "metadata": {
    "collapsed": false,
    "ExecuteTime": {
     "end_time": "2025-03-12T16:23:28.635654Z",
     "start_time": "2025-03-12T16:23:28.605364600Z"
    }
   },
   "id": "91034dc4ec349fc4",
   "execution_count": 29
  },
  {
   "cell_type": "code",
   "outputs": [
    {
     "name": "stdout",
     "output_type": "stream",
     "text": [
      "\n",
      " ✰ ✰ ✰ EPOCH 1 ✰ ✰ ✰ \n",
      "train : ██████████████████████████████████████████\n",
      "val   : ██████████████████████████████████████████\n",
      "TRAIN --- | Loss: 0.02503 | OA: 0.3579 | f1: 0.3561\n",
      "VAL ----- | Loss: 0.02163 | OA: 0.5293 | f1: 0.5504\n",
      "\n",
      " ✰ ✰ ✰ EPOCH 2 ✰ ✰ ✰ \n",
      "train : ██████████████████████████████████████████\n",
      "val   : ██████████████████████████████████████████\n",
      "TRAIN --- | Loss: 0.01908 | OA: 0.5839 | f1: 0.607\n",
      "VAL ----- | Loss: 0.01815 | OA: 0.6026 | f1: 0.655\n",
      "\n",
      " ✰ ✰ ✰ EPOCH 3 ✰ ✰ ✰ \n",
      "train : ██████████████████████████████████████████\n",
      "val   : ██████████████████████████████████████████\n",
      "TRAIN --- | Loss: 0.0164 | OA: 0.6419 | f1: 0.6697\n",
      "VAL ----- | Loss: 0.01628 | OA: 0.6431 | f1: 0.6989\n",
      "\n",
      " ✰ ✰ ✰ EPOCH 4 ✰ ✰ ✰ \n",
      "train : ██████████████████████████████████████████\n",
      "val   : ██████████████████████████████████████████\n",
      "TRAIN --- | Loss: 0.01487 | OA: 0.6682 | f1: 0.6993\n",
      "VAL ----- | Loss: 0.01534 | OA: 0.6574 | f1: 0.7064\n",
      "\n",
      " ✰ ✰ ✰ EPOCH 5 ✰ ✰ ✰ \n",
      "train : ██████████████████████████████████████████\n",
      "val   : ██████████████████████████████████████████\n",
      "TRAIN --- | Loss: 0.0138 | OA: 0.6847 | f1: 0.7199\n",
      "VAL ----- | Loss: 0.01423 | OA: 0.6627 | f1: 0.7165\n",
      "\n",
      " ✰ ✰ ✰ EPOCH 6 ✰ ✰ ✰ \n",
      "train : ██████████████████████████████████████████\n",
      "val   : ██████████████████████████████████████████\n",
      "TRAIN --- | Loss: 0.01307 | OA: 0.6973 | f1: 0.7315\n",
      "VAL ----- | Loss: 0.01358 | OA: 0.6747 | f1: 0.7289\n",
      "\n",
      " ✰ ✰ ✰ EPOCH 7 ✰ ✰ ✰ \n",
      "train : ██████████████████████████████████████████\n",
      "val   : ██████████████████████████████████████████\n",
      "TRAIN --- | Loss: 0.01256 | OA: 0.7031 | f1: 0.7394\n",
      "VAL ----- | Loss: 0.01354 | OA: 0.6698 | f1: 0.7266\n",
      "\n",
      " ✰ ✰ ✰ EPOCH 8 ✰ ✰ ✰ \n",
      "train : ██████████████████████████████████████████\n",
      "val   : ██████████████████████████████████████████\n",
      "TRAIN --- | Loss: 0.01207 | OA: 0.7107 | f1: 0.749\n",
      "VAL ----- | Loss: 0.01272 | OA: 0.6815 | f1: 0.7366\n",
      "\n",
      " ✰ ✰ ✰ EPOCH 9 ✰ ✰ ✰ \n",
      "train : ██████████████████████████████████████████\n",
      "val   : ██████████████████████████████████████████\n",
      "TRAIN --- | Loss: 0.01173 | OA: 0.7144 | f1: 0.7528\n",
      "VAL ----- | Loss: 0.01244 | OA: 0.6956 | f1: 0.7484\n",
      "\n",
      " ✰ ✰ ✰ EPOCH 10 ✰ ✰ ✰ \n",
      "train : ██████████████████████████████████████████\n",
      "val   : ██████████████████████████████████████████\n",
      "TRAIN --- | Loss: 0.01134 | OA: 0.7235 | f1: 0.7627\n",
      "VAL ----- | Loss: 0.01246 | OA: 0.68 | f1: 0.7363\n",
      "\n",
      " ✰ ✰ ✰ EPOCH 11 ✰ ✰ ✰ \n",
      "train : ██████████████████████████████████████████\n",
      "val   : ██████████████████████████████████████████\n",
      "TRAIN --- | Loss: 0.0111 | OA: 0.723 | f1: 0.7623\n",
      "VAL ----- | Loss: 0.01207 | OA: 0.6928 | f1: 0.7481\n",
      "\n",
      " ✰ ✰ ✰ EPOCH 12 ✰ ✰ ✰ \n",
      "train : ██████████████████████████████████████████\n",
      "val   : ██████████████████████████████████████████\n",
      "TRAIN --- | Loss: 0.01091 | OA: 0.7274 | f1: 0.7651\n",
      "VAL ----- | Loss: 0.01176 | OA: 0.6959 | f1: 0.7478\n",
      "\n",
      " ✰ ✰ ✰ EPOCH 13 ✰ ✰ ✰ \n",
      "train : ██████████████████████████████████████████\n",
      "val   : ██████████████████████████████████████████\n",
      "TRAIN --- | Loss: 0.01076 | OA: 0.73 | f1: 0.7692\n",
      "VAL ----- | Loss: 0.01168 | OA: 0.6965 | f1: 0.7511\n",
      "\n",
      " ✰ ✰ ✰ EPOCH 14 ✰ ✰ ✰ \n",
      "train : ██████████████████████████████████████████\n",
      "val   : ██████████████████████████████████████████\n",
      "TRAIN --- | Loss: 0.01057 | OA: 0.7321 | f1: 0.7705\n",
      "VAL ----- | Loss: 0.0115 | OA: 0.6958 | f1: 0.7501\n",
      "\n",
      " ✰ ✰ ✰ EPOCH 15 ✰ ✰ ✰ \n",
      "train : ██████████████████████████████████████████\n",
      "val   : ██████████████████████████████████████████\n",
      "TRAIN --- | Loss: 0.01043 | OA: 0.736 | f1: 0.7748\n",
      "VAL ----- | Loss: 0.01121 | OA: 0.7035 | f1: 0.7564\n",
      "\n",
      " ✰ ✰ ✰ EPOCH 16 ✰ ✰ ✰ \n",
      "train : ██████████████████████████████████████████\n",
      "val   : ██████████████████████████████████████████\n",
      "TRAIN --- | Loss: 0.01036 | OA: 0.7327 | f1: 0.7732\n",
      "VAL ----- | Loss: 0.01137 | OA: 0.7026 | f1: 0.7585\n",
      "\n",
      " ✰ ✰ ✰ EPOCH 17 ✰ ✰ ✰ \n",
      "train : ██████████████████████████████████████████\n",
      "val   : ██████████████████████████████████████████\n",
      "TRAIN --- | Loss: 0.01011 | OA: 0.7402 | f1: 0.7801\n",
      "VAL ----- | Loss: 0.01121 | OA: 0.6987 | f1: 0.7551\n",
      "\n",
      " ✰ ✰ ✰ EPOCH 18 ✰ ✰ ✰ \n",
      "train : ██████████████████████████████████████████\n",
      "val   : ██████████████████████████████████████████\n",
      "TRAIN --- | Loss: 0.01005 | OA: 0.7412 | f1: 0.7809\n",
      "VAL ----- | Loss: 0.011 | OA: 0.7071 | f1: 0.7611\n",
      "\n",
      " ✰ ✰ ✰ EPOCH 19 ✰ ✰ ✰ \n",
      "train : ██████████████████████████████████████████\n",
      "val   : ██████████████████████████████████████████\n",
      "TRAIN --- | Loss: 0.01002 | OA: 0.7418 | f1: 0.7809\n",
      "VAL ----- | Loss: 0.01108 | OA: 0.7011 | f1: 0.7579\n",
      "\n",
      " ✰ ✰ ✰ EPOCH 20 ✰ ✰ ✰ \n",
      "train : ██████████████████████████████████████████\n",
      "val   : ██████████████████████████████████████████\n",
      "TRAIN --- | Loss: 0.009933 | OA: 0.7426 | f1: 0.7819\n",
      "VAL ----- | Loss: 0.01092 | OA: 0.7098 | f1: 0.76\n",
      "\n",
      " ✰ ✰ ✰ EPOCH 21 ✰ ✰ ✰ \n",
      "train : ██████████████████████████████████████████\n",
      "val   : ██████████████████████████████████████████\n",
      "TRAIN --- | Loss: 0.009767 | OA: 0.7441 | f1: 0.7839\n",
      "VAL ----- | Loss: 0.01095 | OA: 0.7057 | f1: 0.7602\n",
      "\n",
      " ✰ ✰ ✰ EPOCH 22 ✰ ✰ ✰ \n",
      "train : ██████████████████████████████████████████\n",
      "val   : ██████████████████████████████████████████\n",
      "TRAIN --- | Loss: 0.00973 | OA: 0.7451 | f1: 0.7827\n",
      "VAL ----- | Loss: 0.01084 | OA: 0.7056 | f1: 0.7611\n",
      "\n",
      " ✰ ✰ ✰ EPOCH 23 ✰ ✰ ✰ \n",
      "train : ██████████████████████████████████████████\n",
      "val   : ██████████████████████████████████████████\n",
      "TRAIN --- | Loss: 0.009666 | OA: 0.7469 | f1: 0.7864\n",
      "VAL ----- | Loss: 0.01085 | OA: 0.701 | f1: 0.7538\n",
      "\n",
      " ✰ ✰ ✰ EPOCH 24 ✰ ✰ ✰ \n",
      "train : ██████████████████████████████████████████\n",
      "val   : ██████████████████████████████████████████\n",
      "TRAIN --- | Loss: 0.009612 | OA: 0.7475 | f1: 0.7869\n",
      "VAL ----- | Loss: 0.01075 | OA: 0.7049 | f1: 0.7594\n",
      "\n",
      " ✰ ✰ ✰ EPOCH 25 ✰ ✰ ✰ \n",
      "train : ██████████████████████████████████████████: ███████████████████████████████train : ████████████████████████████████train : █████████████████████████████████train : ████████████████████████████████████train : █████████████████████████████████████train : ██████████████████████████████████████train : ████████████████████████████████████████train : █████████████████████████████████████████\n",
      "val   : ██████████████████████████████████████████\n",
      "TRAIN --- | Loss: 0.009552 | OA: 0.7511 | f1: 0.7896\n",
      "VAL ----- | Loss: 0.0108 | OA: 0.7054 | f1: 0.7618\n",
      "\n",
      " ✰ ✰ ✰ EPOCH 26 ✰ ✰ ✰ \n",
      "train : ██████████████████████████████████████████\n",
      "val   : ██████████████████████████████████████████\n",
      "TRAIN --- | Loss: 0.009514 | OA: 0.7499 | f1: 0.7883\n",
      "VAL ----- | Loss: 0.01065 | OA: 0.7062 | f1: 0.7601\n",
      "\n",
      " ✰ ✰ ✰ EPOCH 27 ✰ ✰ ✰ \n",
      "train : ██████████████████████████████████████████\n",
      "val   : ██████████████████████████████████████████\n",
      "TRAIN --- | Loss: 0.009469 | OA: 0.7482 | f1: 0.7875\n",
      "VAL ----- | Loss: 0.0106 | OA: 0.7089 | f1: 0.7604\n",
      "\n",
      " ✰ ✰ ✰ EPOCH 28 ✰ ✰ ✰ \n",
      "train : ██████████████████████████████████████████\n",
      "val   : ██████████████████████████████████████████\n",
      "TRAIN --- | Loss: 0.009425 | OA: 0.7487 | f1: 0.7892\n",
      "VAL ----- | Loss: 0.0105 | OA: 0.711 | f1: 0.7621\n",
      "\n",
      " ✰ ✰ ✰ EPOCH 29 ✰ ✰ ✰ \n",
      "train : ██████████████████████████████████████████\n",
      "val   : ██████████████████████████████████████████\n",
      "TRAIN --- | Loss: 0.009337 | OA: 0.7536 | f1: 0.7912\n",
      "VAL ----- | Loss: 0.01053 | OA: 0.7096 | f1: 0.76\n",
      "\n",
      " ✰ ✰ ✰ EPOCH 30 ✰ ✰ ✰ \n",
      "train : ██████████████████████████████████████████\n",
      "val   : ██████████████████████████████████████████\n",
      "TRAIN --- | Loss: 0.009223 | OA: 0.7538 | f1: 0.7926\n",
      "VAL ----- | Loss: 0.01074 | OA: 0.7013 | f1: 0.7578\n",
      "\n",
      " ✰ ✰ ✰ EPOCH 31 ✰ ✰ ✰ \n",
      "train : ██████████████████████████████████████████\n",
      "val   : ██████████████████████████████████████████\n",
      "TRAIN --- | Loss: 0.009219 | OA: 0.7579 | f1: 0.796\n",
      "VAL ----- | Loss: 0.01056 | OA: 0.7067 | f1: 0.759\n",
      "\n",
      " ✰ ✰ ✰ EPOCH 32 ✰ ✰ ✰ \n",
      "train : ██████████████████████████████████████████\n",
      "val   : ██████████████████████████████████████████\n",
      "TRAIN --- | Loss: 0.009206 | OA: 0.7536 | f1: 0.7923\n",
      "VAL ----- | Loss: 0.01047 | OA: 0.7098 | f1: 0.7627\n",
      "\n",
      " ✰ ✰ ✰ EPOCH 33 ✰ ✰ ✰ \n",
      "train : ██████████████████████████████████████████\n",
      "val   : ██████████████████████████████████████████\n",
      "TRAIN --- | Loss: 0.009206 | OA: 0.7554 | f1: 0.794\n",
      "VAL ----- | Loss: 0.0106 | OA: 0.7039 | f1: 0.754\n",
      "\n",
      " ✰ ✰ ✰ EPOCH 34 ✰ ✰ ✰ \n",
      "train : ██████████████████████████████████████████\n",
      "val   : ██████████████████████████████████████████\n",
      "TRAIN --- | Loss: 0.00908 | OA: 0.7575 | f1: 0.7973\n",
      "VAL ----- | Loss: 0.01025 | OA: 0.719 | f1: 0.7707\n",
      "\n",
      " ✰ ✰ ✰ EPOCH 35 ✰ ✰ ✰ \n",
      "train : ██████████████████████████████████████████\n",
      "val   : ██████████████████████████████████████████\n",
      "TRAIN --- | Loss: 0.009036 | OA: 0.7604 | f1: 0.7984\n",
      "VAL ----- | Loss: 0.01043 | OA: 0.7095 | f1: 0.7642\n",
      "\n",
      " ✰ ✰ ✰ EPOCH 36 ✰ ✰ ✰ \n",
      "train : ██████████████████████████████████████████\n",
      "val   : ██████████████████████████████████████████\n",
      "TRAIN --- | Loss: 0.009087 | OA: 0.759 | f1: 0.7978\n",
      "VAL ----- | Loss: 0.01065 | OA: 0.7002 | f1: 0.7557\n",
      "\n",
      " ✰ ✰ ✰ EPOCH 37 ✰ ✰ ✰ \n",
      "train : ██████████████████████████████████████████\n",
      "val   : ██████████████████████████████████████████\n",
      "TRAIN --- | Loss: 0.008997 | OA: 0.7607 | f1: 0.7995\n",
      "VAL ----- | Loss: 0.01045 | OA: 0.7054 | f1: 0.7535\n",
      "\n",
      " ✰ ✰ ✰ EPOCH 38 ✰ ✰ ✰ \n",
      "train : ██████████████████████████████████████████\n",
      "val   : ██████████████████████████████████████████\n",
      "TRAIN --- | Loss: 0.009012 | OA: 0.7619 | f1: 0.8\n",
      "VAL ----- | Loss: 0.01052 | OA: 0.7073 | f1: 0.7582\n",
      "\n",
      " ✰ ✰ ✰ EPOCH 39 ✰ ✰ ✰ \n",
      "train : ██████████████████████████████████████████\n",
      "val   : ██████████████████████████████████████████\n",
      "TRAIN --- | Loss: 0.008957 | OA: 0.762 | f1: 0.7994\n",
      "VAL ----- | Loss: 0.01031 | OA: 0.7099 | f1: 0.7613\n",
      "\n",
      " ✰ ✰ ✰ EPOCH 40 ✰ ✰ ✰ \n",
      "train : ██████████████████████████████████████████\n",
      "val   : ██████████████████████████████████████████\n",
      "TRAIN --- | Loss: 0.008903 | OA: 0.7637 | f1: 0.802\n",
      "VAL ----- | Loss: 0.01034 | OA: 0.7102 | f1: 0.76\n",
      "\n",
      " ✰ ✰ ✰ EPOCH 41 ✰ ✰ ✰ \n",
      "train : ██████████████████████████████████████████\n",
      "val   : ██████████████████████████████████████████\n",
      "TRAIN --- | Loss: 0.008886 | OA: 0.7626 | f1: 0.8002\n",
      "VAL ----- | Loss: 0.01031 | OA: 0.7143 | f1: 0.7629\n",
      "\n",
      " ✰ ✰ ✰ EPOCH 42 ✰ ✰ ✰ \n",
      "train : ██████████████████████████████████████████\n",
      "val   : ██████████████████████████████████████████\n",
      "TRAIN --- | Loss: 0.00882 | OA: 0.7646 | f1: 0.8019\n",
      "VAL ----- | Loss: 0.01026 | OA: 0.7138 | f1: 0.7635\n",
      "\n",
      " ✰ ✰ ✰ EPOCH 43 ✰ ✰ ✰ \n",
      "train : ██████████████████████████████████████████\n",
      "val   : ██████████████████████████████████████████\n",
      "TRAIN --- | Loss: 0.008808 | OA: 0.765 | f1: 0.8038\n",
      "VAL ----- | Loss: 0.01033 | OA: 0.7119 | f1: 0.7612\n",
      "\n",
      " ✰ ✰ ✰ EPOCH 44 ✰ ✰ ✰ \n",
      "train : ██████████████████████████████████████████\n",
      "val   : ██████████████████████████████████████████\n",
      "TRAIN --- | Loss: 0.008806 | OA: 0.7639 | f1: 0.8025\n",
      "VAL ----- | Loss: 0.0104 | OA: 0.707 | f1: 0.7571\n",
      "\n",
      " ✰ ✰ ✰ EPOCH 45 ✰ ✰ ✰ \n",
      "train : ██████████████████████████████████████████\n",
      "val   : ██████████████████████████████████████████\n",
      "TRAIN --- | Loss: 0.008783 | OA: 0.7676 | f1: 0.8059\n",
      "VAL ----- | Loss: 0.01028 | OA: 0.709 | f1: 0.7598\n",
      "\n",
      " ✰ ✰ ✰ EPOCH 46 ✰ ✰ ✰ \n",
      "train : ██████████████████████████████████████████\n",
      "val   : ██████████████████████████████████████████\n",
      "TRAIN --- | Loss: 0.008684 | OA: 0.7693 | f1: 0.8073\n",
      "VAL ----- | Loss: 0.01027 | OA: 0.7128 | f1: 0.7625\n",
      "\n",
      " ✰ ✰ ✰ EPOCH 47 ✰ ✰ ✰ \n",
      "train : ██████████████████████████████████████████\n",
      "val   : ██████████████████████████████████████████\n",
      "TRAIN --- | Loss: 0.008779 | OA: 0.7637 | f1: 0.8024\n",
      "VAL ----- | Loss: 0.01023 | OA: 0.7121 | f1: 0.7597\n",
      "\n",
      " ✰ ✰ ✰ EPOCH 48 ✰ ✰ ✰ \n",
      "train : ██████████████████████████████████████████\n",
      "val   : ██████████████████████████████████████████\n",
      "TRAIN --- | Loss: 0.008705 | OA: 0.7645 | f1: 0.8028\n",
      "VAL ----- | Loss: 0.01033 | OA: 0.7118 | f1: 0.759\n",
      "\n",
      " ✰ ✰ ✰ EPOCH 49 ✰ ✰ ✰ \n",
      "train : ██████████████████████████████████████████\n",
      "val   : ██████████████████████████████████████████\n",
      "TRAIN --- | Loss: 0.008603 | OA: 0.7713 | f1: 0.8083\n",
      "VAL ----- | Loss: 0.01017 | OA: 0.7121 | f1: 0.761\n",
      "\n",
      " ✰ ✰ ✰ EPOCH 50 ✰ ✰ ✰ \n",
      "train : ██████████████████████████████████████████\n",
      "val   : ██████████████████████████████████████████\n",
      "TRAIN --- | Loss: 0.008623 | OA: 0.7702 | f1: 0.8084\n",
      "VAL ----- | Loss: 0.01023 | OA: 0.7156 | f1: 0.7654\n",
      "\n",
      " ✰ ✰ ✰ EPOCH 51 ✰ ✰ ✰ \n",
      "train : ██████████████████████████████████████████\n",
      "val   : ██████████████████████████████████████████\n",
      "TRAIN --- | Loss: 0.0086 | OA: 0.7728 | f1: 0.8093\n",
      "VAL ----- | Loss: 0.01039 | OA: 0.7062 | f1: 0.7573\n",
      "\n",
      " ✰ ✰ ✰ EPOCH 52 ✰ ✰ ✰ \n",
      "train : ██████████████████████████████████████████\n",
      "val   : ██████████████████████████████████████████\n",
      "TRAIN --- | Loss: 0.008623 | OA: 0.7691 | f1: 0.8061\n",
      "VAL ----- | Loss: 0.01033 | OA: 0.7102 | f1: 0.7606\n",
      "\n",
      " ✰ ✰ ✰ EPOCH 53 ✰ ✰ ✰ \n",
      "train : ██████████████████████████████████████████\n",
      "val   : ██████████████████████████████████████████\n",
      "TRAIN --- | Loss: 0.00865 | OA: 0.7685 | f1: 0.8066\n",
      "VAL ----- | Loss: 0.01031 | OA: 0.7109 | f1: 0.7615\n",
      "\n",
      " ✰ ✰ ✰ EPOCH 54 ✰ ✰ ✰ \n",
      "train : ██████████████████████████████████████████\n",
      "val   : ██████████████████████████████████████████\n",
      "TRAIN --- | Loss: 0.008553 | OA: 0.7694 | f1: 0.8077\n",
      "VAL ----- | Loss: 0.01056 | OA: 0.7006 | f1: 0.752\n",
      "\n",
      " ✰ ✰ ✰ EPOCH 55 ✰ ✰ ✰ \n",
      "train : ██████████████████████████████████████████\n",
      "val   : ██████████████████████████████████████████\n",
      "TRAIN --- | Loss: 0.008498 | OA: 0.7731 | f1: 0.8107\n",
      "VAL ----- | Loss: 0.01021 | OA: 0.7075 | f1: 0.7576\n",
      "\n",
      " ✰ ✰ ✰ EPOCH 56 ✰ ✰ ✰ \n",
      "train : ██████████████████████████████████████████\n",
      "val   : ██████████████████████████████████████████\n",
      "TRAIN --- | Loss: 0.008532 | OA: 0.77 | f1: 0.8074\n",
      "VAL ----- | Loss: 0.01027 | OA: 0.7134 | f1: 0.7624\n",
      "\n",
      " ✰ ✰ ✰ EPOCH 57 ✰ ✰ ✰ \n",
      "train : ██████████████████████████████████████████\n",
      "val   : ██████████████████████████████████████████\n",
      "TRAIN --- | Loss: 0.008489 | OA: 0.7735 | f1: 0.8109\n",
      "VAL ----- | Loss: 0.01026 | OA: 0.7109 | f1: 0.7617\n",
      "\n",
      " ✰ ✰ ✰ EPOCH 58 ✰ ✰ ✰ \n",
      "train : ██████████████████████████████████████████\n",
      "val   : ██████████████████████████████████████████\n",
      "TRAIN --- | Loss: 0.00839 | OA: 0.7776 | f1: 0.8144\n",
      "VAL ----- | Loss: 0.01015 | OA: 0.7119 | f1: 0.7589\n",
      "\n",
      " ✰ ✰ ✰ EPOCH 59 ✰ ✰ ✰ \n",
      "train : ██████████████████████████████████████████\n",
      "val   : ██████████████████████████████████████████\n",
      "TRAIN --- | Loss: 0.008489 | OA: 0.7756 | f1: 0.813\n",
      "VAL ----- | Loss: 0.01016 | OA: 0.7144 | f1: 0.7651\n",
      "\n",
      " ✰ ✰ ✰ EPOCH 60 ✰ ✰ ✰ \n",
      "train : ██████████████████████████████████████████\n",
      "val   : ██████████████████████████████████████████\n",
      "TRAIN --- | Loss: 0.008435 | OA: 0.7727 | f1: 0.8095\n",
      "VAL ----- | Loss: 0.0102 | OA: 0.7118 | f1: 0.7646\n"
     ]
    },
    {
     "data": {
      "text/plain": "<All keys matched successfully>"
     },
     "execution_count": 30,
     "metadata": {},
     "output_type": "execute_result"
    }
   ],
   "source": [
    "for epoch in range(epochs):\n",
    "    print(f\"\\n ✰ ✰ ✰ EPOCH {epoch+1} ✰ ✰ ✰ \")\n",
    "    \n",
    "    # reset running metrics\n",
    "    running_loss_train, running_loss_val = 0, 0\n",
    "    train_preds,train_targets = [],[]\n",
    "    val_preds,val_targets = [],[]\n",
    "    \n",
    "    # Train loop\n",
    "    model_cls.train()\n",
    "    batch_frac = 42 / (len(train_loader))\n",
    "    for batch_idx, (data_raw, data_trans, label) in enumerate(train_loader):\n",
    "        print(f\"train : {'█'*int(batch_idx*batch_frac)}\", end=\"\\r\")\n",
    "        \n",
    "        \n",
    "        # Push data through model\n",
    "        optimizer.zero_grad()\n",
    "        out = model_cls(data_raw)\n",
    "        \n",
    "        # Calculate loss\n",
    "        loss = loss_fn(out,label)\n",
    "        loss.backward() # backprop\n",
    "        optimizer.step()\n",
    "        \n",
    "        # Calculate metrics\n",
    "        running_loss_train += loss.cpu().item()\n",
    "        preds = out.argmax(dim=1)\n",
    "        train_preds.extend(preds.detach().cpu().numpy())\n",
    "        train_targets.extend(label.detach().cpu().numpy())\n",
    "    print(f\"train : {'█'*42}\")\n",
    "        \n",
    "    # Validate loop\n",
    "    model_cls.eval()\n",
    "    batch_frac = 42 / len(val_loader)\n",
    "    with torch.no_grad():\n",
    "        for batch_idx, (data_raw, data_trans, label) in enumerate(val_loader):\n",
    "            print(f\"val   : {'█'*int(batch_idx*batch_frac)}\", end=\"\\r\")\n",
    "            \n",
    "            # Push data through model\n",
    "            out = model_cls(data_raw)\n",
    "            \n",
    "            # Calculate loss\n",
    "            loss = loss_fn(out,label)\n",
    "            \n",
    "            # Calculate metrics\n",
    "            running_loss_val += loss.cpu().item()\n",
    "            preds = out.argmax(dim=1)\n",
    "            val_preds.extend(preds.detach().cpu().numpy())\n",
    "            val_targets.extend(label.detach().cpu().numpy())\n",
    "    print(f\"val   : {'█'*42}\")\n",
    "    \n",
    "    # calculate epoch metrics for train set\n",
    "    train_acc = accuracy_score(train_targets, train_preds); training_accs.append(train_acc)\n",
    "    train_f1m = f1_score(train_targets, train_preds, average='macro'); training_f1ms.append(train_f1m)\n",
    "    train_f1 = f1_score(train_targets, train_preds, average=None); training_f1s.append(train_f1)\n",
    "    train_loss = running_loss_train / (len(dataset_train)); training_losses.append(train_loss)\n",
    "    \n",
    "    # calculate epoch metrics for val set\n",
    "    val_acc = accuracy_score(val_targets, val_preds); validation_accs.append(val_acc)\n",
    "    val_f1m = f1_score(val_targets, val_preds, average='macro'); validation_f1ms.append(val_f1m)\n",
    "    val_f1 = f1_score(val_targets, val_preds, average=None); validation_f1s.append(val_f1)\n",
    "    val_loss = running_loss_val / (len(dataset_val)); validation_losses.append(val_loss)\n",
    "    \n",
    "    # Update\n",
    "    print(f\"TRAIN --- | Loss: {train_loss:.4} | OA: {train_acc:.4} | f1: {train_f1m:.4}\")\n",
    "    print(f\"VAL ----- | Loss: {val_loss:.4} | OA: {val_acc:.4} | f1: {val_f1m:.4}\")\n",
    "    \n",
    "    new_lr = optimizer.param_groups[0]['lr']\n",
    "    if new_lr != lr:\n",
    "        print(f\"Val f1 plateaued, lr {lr} -> {new_lr}\")\n",
    "        lr = new_lr\n",
    "        lr_decreases.append(epoch)\n",
    "        if len(lr_decreases) >= 3: \n",
    "            print(\"Val f1 decreased thrice, ending training early\")\n",
    "            break\n",
    "\n",
    "    if val_f1m > best_val_f1:\n",
    "        best_val_f1 = val_f1m\n",
    "        best_val_epoch = epoch\n",
    "        torch.save(model_cls.state_dict(), rf'./models/model_cls_convert_freeze_{seed}.pt')\n",
    "\n",
    "model_cls.load_state_dict(torch.load(rf'./models/model_cls_convert_freeze_{seed}.pt', weights_only=True))"
   ],
   "metadata": {
    "collapsed": false,
    "ExecuteTime": {
     "end_time": "2025-03-12T16:29:29.267776800Z",
     "start_time": "2025-03-12T16:23:28.616675600Z"
    }
   },
   "id": "87017572ee2e50f7",
   "execution_count": 30
  },
  {
   "cell_type": "code",
   "outputs": [
    {
     "name": "stdout",
     "output_type": "stream",
     "text": [
      "TEST ---- | Loss: 0.6885 | OA: 0.6938 | f1: 0.7497\n",
      "epithelium_n         : 0.7117\n",
      "stroma_n             : 0.6109\n",
      "epithelium_c         : 0.7196\n",
      "stroma_c             : 0.6063\n",
      "corpora_amylacea     : 0.9165\n",
      "blood                : 0.9333\n"
     ]
    }
   ],
   "source": [
    "# Test\n",
    "running_loss_test = 0\n",
    "test_preds, test_targets = [], []\n",
    "model_cls.eval()\n",
    "with torch.no_grad():\n",
    "    for batch_idx, (data_raw, data_trans, label) in enumerate(test_loader):\n",
    "        \n",
    "        # Push data through model\n",
    "            out = model_cls(data_raw)\n",
    "            \n",
    "            # Calculate loss\n",
    "            loss = loss_fn(out,label)\n",
    "            \n",
    "            # Calculate metrics\n",
    "            running_loss_test += loss.cpu().item()\n",
    "            preds = out.argmax(dim=1)\n",
    "            test_preds.extend(preds.detach().cpu().numpy())\n",
    "            test_targets.extend(label.detach().cpu().numpy())\n",
    "\n",
    "# calculate test set metrics\n",
    "test_acc = accuracy_score(test_targets, test_preds)\n",
    "test_f1m = f1_score(test_targets, test_preds, average='macro')\n",
    "test_f1 = f1_score(test_targets, test_preds, average=None)\n",
    "test_loss = running_loss_test / batch_idx\n",
    "\n",
    "print(f\"TEST ---- | Loss: {test_loss:.4} | OA: {test_acc:.4} | f1: {test_f1m:.4}\")\n",
    "for cls_idx, f1 in enumerate(test_f1):\n",
    "    print(f\"{annotation_class_names[cls_idx]}{(20 - len(annotation_class_names[cls_idx])) * ' '} : {f1:.4}\")"
   ],
   "metadata": {
    "collapsed": false,
    "ExecuteTime": {
     "end_time": "2025-03-12T16:29:30.067656800Z",
     "start_time": "2025-03-12T16:29:29.247099200Z"
    }
   },
   "id": "78e620a2c9995297",
   "execution_count": 31
  },
  {
   "cell_type": "markdown",
   "source": [
    "# Eval"
   ],
   "metadata": {
    "collapsed": false
   },
   "id": "98b68876112ab3ae"
  },
  {
   "cell_type": "code",
   "outputs": [
    {
     "data": {
      "text/plain": "<Figure size 1600x500 with 3 Axes>",
      "image/png": "[encoded data removed]"
     },
     "metadata": {},
     "output_type": "display_data"
    }
   ],
   "source": [
    "fig,ax = plt.subplots(1,3,figsize=(16,5))\n",
    "ax[0].plot(np.arange(1,len(training_losses)+1),np.array(training_losses),color='cornflowerblue',label=\"train\")\n",
    "ax[0].plot(np.arange(1,len(validation_losses)+1),np.array(validation_losses),color='orange',label=\"validation\")\n",
    "ax[0].scatter(len(validation_losses),test_loss,color='green',label=\"test\",marker=\"x\")\n",
    "ax[0].set_title(\"loss curves\"); ax[0].legend()\n",
    "\n",
    "ax[1].plot(np.arange(1,len(training_accs)+1),np.array(training_accs),color='cornflowerblue',label=\"train\")\n",
    "ax[1].plot(np.arange(1,len(validation_accs)+1),np.array(validation_accs),color='orange',label=\"validation\")\n",
    "ax[1].scatter(len(validation_losses),test_acc,color='green',label=\"test\",marker=\"x\")\n",
    "ax[1].set_title(\"accuracy\"); ax[1].legend()\n",
    "\n",
    "ax[2].plot(np.arange(1,len(training_f1ms)+1),np.array(training_f1ms),color='cornflowerblue',label=\"train\")\n",
    "ax[2].plot(np.arange(1,len(validation_f1ms)+1),np.array(validation_f1ms),color='orange',label=\"validation\")\n",
    "ax[2].scatter(len(validation_losses),test_f1m,color='green',label=\"test\",marker=\"x\")\n",
    "ax[2].set_title(\"macro f1\"); ax[2].legend()\n",
    "\n",
    "for lrd in lr_decreases:\n",
    "    ax[0].axvline(x=lrd, ymin=0, ymax=1, color='grey')\n",
    "    ax[1].axvline(x=lrd, ymin=0, ymax=1, color='grey')\n",
    "    ax[2].axvline(x=lrd, ymin=0, ymax=1, color='grey')\n",
    "\n",
    "ax[0].axvline(x=best_val_epoch, ymin=0, ymax=1, color='red',alpha=0.3)\n",
    "ax[1].axvline(x=best_val_epoch, ymin=0, ymax=1, color='red',alpha=0.3)\n",
    "ax[2].axvline(x=best_val_epoch, ymin=0, ymax=1, color='red',alpha=0.3)\n",
    "\n",
    "plt.tight_layout()"
   ],
   "metadata": {
    "collapsed": false,
    "ExecuteTime": {
     "end_time": "2025-03-12T16:29:30.780801500Z",
     "start_time": "2025-03-12T16:29:30.073122200Z"
    }
   },
   "id": "bcc280a451b299f5",
   "execution_count": 32
  }
 ],
 "metadata": {
  "kernelspec": {
   "display_name": "Python 3",
   "language": "python",
   "name": "python3"
  },
  "language_info": {
   "codemirror_mode": {
    "name": "ipython",
    "version": 2
   },
   "file_extension": ".py",
   "mimetype": "text/x-python",
   "name": "python",
   "nbconvert_exporter": "python",
   "pygments_lexer": "ipython2",
   "version": "2.7.6"
  }
 },
 "nbformat": 4,
 "nbformat_minor": 5
}
