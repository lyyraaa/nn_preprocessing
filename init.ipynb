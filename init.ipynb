{
 "cells": [
  {
   "cell_type": "code",
   "execution_count": 1,
   "id": "initial_id",
   "metadata": {
    "collapsed": true,
    "ExecuteTime": {
     "end_time": "2025-03-10T16:54:01.753207800Z",
     "start_time": "2025-03-10T16:53:59.189207100Z"
    }
   },
   "outputs": [],
   "source": [
    "import numpy as np\n",
    "from matplotlib import pyplot as plt\n",
    "import torch\n",
    "from torch import nn\n",
    "from sklearn.model_selection import train_test_split, KFold\n",
    "from sklearn.metrics import accuracy_score, f1_score"
   ]
  },
  {
   "cell_type": "markdown",
   "source": [
    "## Experiment Parameters"
   ],
   "metadata": {
    "collapsed": false
   },
   "id": "318379b4c9456f39"
  },
  {
   "cell_type": "code",
   "outputs": [],
   "source": [
    "# Experiment level\n",
    "seed = 42\n",
    "torch.manual_seed(seed) # set random seed for reproducibility\n",
    "\n",
    "# Data loading\n",
    "test_set_fraction = 0.2\n",
    "val_set_fraction = 0.2\n",
    "batch_size= 64\n",
    "n_classes = 6\n",
    "\n",
    "# Network parameters\n",
    "hidden_dim = 256\n",
    "\n",
    "# Training schedule\n",
    "lr = 1e-4\n",
    "epochs = 60"
   ],
   "metadata": {
    "collapsed": false,
    "ExecuteTime": {
     "end_time": "2025-03-10T16:54:01.763449100Z",
     "start_time": "2025-03-10T16:54:01.755201600Z"
    }
   },
   "id": "43fc33cf0cc9608a",
   "execution_count": 2
  },
  {
   "cell_type": "markdown",
   "source": [
    "## Import sample data"
   ],
   "metadata": {
    "collapsed": false
   },
   "id": "e6c2ff0ba40d36a5"
  },
  {
   "cell_type": "code",
   "outputs": [
    {
     "name": "stdout",
     "output_type": "stream",
     "text": [
      "Loaded 49361 spectra from 228 cores from 100 patients\n"
     ]
    }
   ],
   "source": [
    "root_dir = r'C:/Users/w37262do/Documents/git/lbp_3d/data/'\n",
    "spectra_raw = np.load(root_dir+'all_raw_spectra.npy') \n",
    "spectra_trans = np.load(root_dir+'all_transformed_spectra.npy') * 1000\n",
    "core_ids = np.load(root_dir+'all_core_indices.npy')\n",
    "patient_ids = np.load(root_dir+'all_core_pids.npy')\n",
    "tissue_classes = np.load(root_dir+'all_tissue_classes.npy')\n",
    "wavenumbers_raw = np.load(root_dir+'wavenumbers.npy')\n",
    "wavenumbers_trans = np.load(root_dir+'wavenumbers_dougal1_2nd.npy')\n",
    "annotation_class_names = np.array(['epithelium_n','stroma_n','epithelium_c','stroma_c','corpora_amylacea','blood'])\n",
    "n_classes = len(np.unique(tissue_classes))\n",
    "print(f\"Loaded {len(spectra_raw)} spectra from {len(np.unique(core_ids))} cores from {len(np.unique(patient_ids))} patients\")"
   ],
   "metadata": {
    "collapsed": false,
    "ExecuteTime": {
     "end_time": "2025-03-10T16:54:02.639693Z",
     "start_time": "2025-03-10T16:54:01.761455400Z"
    }
   },
   "id": "162152a29cd6d12a",
   "execution_count": 3
  },
  {
   "cell_type": "markdown",
   "source": [
    "## Define data split, dataloaders and datasets\n"
   ],
   "metadata": {
    "collapsed": false
   },
   "id": "23e8a986a2b7268"
  },
  {
   "cell_type": "code",
   "outputs": [
    {
     "name": "stdout",
     "output_type": "stream",
     "text": [
      "Spectra per data split:\n",
      "\tTrain: 29785\n",
      "\tVal: 9231\n",
      "\tTest: 10345\n"
     ]
    }
   ],
   "source": [
    "# split patients into train, val, test sets\n",
    "unique_pids = np.unique(patient_ids)\n",
    "pids_trainval, pids_test, _, _ = train_test_split(unique_pids, np.zeros_like(unique_pids), test_size=0.2, random_state=seed)\n",
    "pids_train, pids_val, _, _ = train_test_split(pids_trainval, np.zeros_like(pids_trainval), test_size=0.25, random_state=seed)\n",
    "# Get indexes for which spectra are in each set\n",
    "where_train = np.where(np.isin(patient_ids,pids_train))\n",
    "where_val = np.where(np.isin(patient_ids,pids_val))\n",
    "where_test = np.where(np.isin(patient_ids,pids_test))\n",
    "print(f\"Spectra per data split:\\n\\tTrain: {len(where_train[0])}\\n\\tVal: {len(where_val[0])}\\n\\tTest: {len(where_test[0])}\")"
   ],
   "metadata": {
    "collapsed": false,
    "ExecuteTime": {
     "end_time": "2025-03-10T16:54:02.646962500Z",
     "start_time": "2025-03-10T16:54:02.637699700Z"
    }
   },
   "id": "f107e76dc407618c",
   "execution_count": 4
  },
  {
   "cell_type": "code",
   "outputs": [],
   "source": [
    "# define custom dataset class, inheriting from torch.utils.data.Dataset\n",
    "# The three functions here must be defined when inheriting from torch.utils.data.Dataset\n",
    "class spectra_dataset(torch.utils.data.Dataset):\n",
    "    def __init__(self, spectra_raw, spectra_trans):\n",
    "        self.spectra_raw = spectra_raw\n",
    "        self.spectra_trans = spectra_trans\n",
    "\n",
    "    # Function called to determine number of items in dataset\n",
    "    def __len__(self):\n",
    "        return len(self.spectra_raw)\n",
    "        \n",
    "    # Function called when retrieving a single item from dataset\n",
    "    # Items are indexed from [0 -> self.__len__]\n",
    "    def __getitem__(self, idx):\n",
    "        # get spectrum at idx, then convert from numpy array to torch tensor\n",
    "        spectrum = torch.from_numpy(self.spectra_raw[idx]).float() # torch (generally) expects float dtype for continuous data\n",
    "        \n",
    "        # get label, then convert it to a tensor also\n",
    "        trans = torch.from_numpy(self.spectra_trans[idx]).float() # torch expects labels to be long int\n",
    "        \n",
    "        return spectrum, trans"
   ],
   "metadata": {
    "collapsed": false,
    "ExecuteTime": {
     "end_time": "2025-03-10T16:54:02.646962500Z",
     "start_time": "2025-03-10T16:54:02.645461600Z"
    }
   },
   "id": "26983331008ae9ec",
   "execution_count": 5
  },
  {
   "cell_type": "code",
   "outputs": [
    {
     "name": "stdout",
     "output_type": "stream",
     "text": [
      "loader sizes:\n",
      "\ttrain: 466 batches\n",
      "\tval: 145 batches\n",
      "\ttest: 162 batches\n"
     ]
    }
   ],
   "source": [
    "# define mean and std spectrum from train data\n",
    "\n",
    "# Define dataset objects for each data split\n",
    "dataset_train = spectra_dataset(\n",
    "    spectra_raw[where_train], spectra_trans[where_train]\n",
    ")\n",
    "\n",
    "dataset_val = spectra_dataset(\n",
    "    spectra_raw[where_val], spectra_trans[where_val]\n",
    ")\n",
    "\n",
    "dataset_test = spectra_dataset(\n",
    "    spectra_raw[where_test], spectra_trans[where_test]\n",
    ")\n",
    "\n",
    "# define dataloader objects for each data split\n",
    "# Batch size determines how many items are loaded and stacked together\n",
    "# Drop last ensures that every item is used; odd-shaped final batch is still used.\n",
    "train_loader = torch.utils.data.DataLoader(dataset_train, batch_size=batch_size, shuffle=True, drop_last=False)\n",
    "val_loader = torch.utils.data.DataLoader(dataset_val, batch_size=batch_size, shuffle=False, drop_last=False)\n",
    "test_loader = torch.utils.data.DataLoader(dataset_test, batch_size=batch_size, shuffle=False, drop_last=False)\n",
    "print(f\"loader sizes:\\n\\ttrain: {len(train_loader)} batches\\n\\tval: {len(val_loader)} batches\\n\\ttest: {len(test_loader)} batches\")"
   ],
   "metadata": {
    "collapsed": false,
    "ExecuteTime": {
     "end_time": "2025-03-10T16:54:02.868213500Z",
     "start_time": "2025-03-10T16:54:02.649953Z"
    }
   },
   "id": "888ba21c75b35d06",
   "execution_count": 6
  },
  {
   "cell_type": "markdown",
   "source": [
    "## Define network"
   ],
   "metadata": {
    "collapsed": false
   },
   "id": "6855bb015bb20cbf"
  },
  {
   "cell_type": "code",
   "outputs": [],
   "source": [
    "class spectra_network(nn.Module):\n",
    "    def __init__(self, input_dim, hidden_dim, output_dim):\n",
    "        super().__init__()\n",
    "        \n",
    "        self.input_norm = nn.BatchNorm1d(input_dim)\n",
    "        \n",
    "        self.activation = nn.GELU()\n",
    "        \n",
    "        self.autoenc = nn.Sequential(\n",
    "            nn.Linear(input_dim,hidden_dim),\n",
    "            self.activation,\n",
    "            nn.BatchNorm1d(hidden_dim),\n",
    "            nn.Linear(hidden_dim,hidden_dim),\n",
    "            self.activation,\n",
    "            nn.BatchNorm1d(hidden_dim),\n",
    "            nn.Linear(hidden_dim,hidden_dim),\n",
    "            self.activation,\n",
    "            nn.BatchNorm1d(hidden_dim),\n",
    "            nn.Linear(hidden_dim,output_dim),\n",
    "        )\n",
    "    \n",
    "    def forward(self, x):\n",
    "        x = self.input_norm(x)\n",
    "        x = self.autoenc(x)\n",
    "        return x"
   ],
   "metadata": {
    "collapsed": false,
    "ExecuteTime": {
     "end_time": "2025-03-10T16:54:02.868213500Z",
     "start_time": "2025-03-10T16:54:02.865355200Z"
    }
   },
   "id": "8a92acf002745f5",
   "execution_count": 7
  },
  {
   "cell_type": "code",
   "outputs": [
    {
     "name": "stdout",
     "output_type": "stream",
     "text": [
      "model with 0.763M params\n"
     ]
    }
   ],
   "source": [
    "model = spectra_network(\n",
    "    input_dim=spectra_raw.shape[-1],\n",
    "    hidden_dim=hidden_dim,\n",
    "    output_dim=spectra_trans.shape[-1],\n",
    ")\n",
    "print(f\"model with {sum(p.numel() for p in model.parameters() if p.requires_grad) / 1e6:.3f}M params\")"
   ],
   "metadata": {
    "collapsed": false,
    "ExecuteTime": {
     "end_time": "2025-03-10T16:54:02.878431600Z",
     "start_time": "2025-03-10T16:54:02.870207300Z"
    }
   },
   "id": "cee05d7bffcbddab",
   "execution_count": 8
  },
  {
   "cell_type": "code",
   "outputs": [],
   "source": [
    "loss_fn = nn.MSELoss()\n",
    "optimizer = torch.optim.Adam(model.parameters(), lr=lr)"
   ],
   "metadata": {
    "collapsed": false,
    "ExecuteTime": {
     "end_time": "2025-03-10T16:54:04.094607900Z",
     "start_time": "2025-03-10T16:54:02.877434500Z"
    }
   },
   "id": "4529c65315a9e780",
   "execution_count": 9
  },
  {
   "cell_type": "markdown",
   "source": [
    "## Train loop"
   ],
   "metadata": {
    "collapsed": false
   },
   "id": "59a94d5ae7f99e94"
  },
  {
   "cell_type": "code",
   "outputs": [],
   "source": [
    "training_losses,validation_losses = [],[]\n",
    "best_val_loss = 100000\n",
    "best_val_epoch = 0"
   ],
   "metadata": {
    "collapsed": false,
    "ExecuteTime": {
     "end_time": "2025-03-10T16:54:04.102508700Z",
     "start_time": "2025-03-10T16:54:04.095605100Z"
    }
   },
   "id": "3f2501838169db33",
   "execution_count": 10
  },
  {
   "cell_type": "code",
   "outputs": [
    {
     "name": "stdout",
     "output_type": "stream",
     "text": [
      "\n",
      " ✰ ✰ ✰ EPOCH 1 ✰ ✰ ✰ \n",
      "train : ██████████████████████████████████████████\n",
      "val   : ██████████████████████████████████████████\n",
      "TRAIN --- | Loss: 0.03262\n",
      "VAL ----- | Loss: 0.007517\n",
      "\n",
      " ✰ ✰ ✰ EPOCH 2 ✰ ✰ ✰ \n",
      "train : ████████████████████████████\r"
     ]
    },
    {
     "name": "stderr",
     "output_type": "stream",
     "text": [
      "\n",
      "KeyboardInterrupt\n",
      "\n"
     ]
    }
   ],
   "source": [
    "for epoch in range(epochs):\n",
    "    print(f\"\\n ✰ ✰ ✰ EPOCH {epoch+1} ✰ ✰ ✰ \")\n",
    "    \n",
    "    # reset running metrics\n",
    "    running_loss_train, running_loss_val = 0, 0\n",
    "    \n",
    "    # Train loop\n",
    "    model.train() # sets model in training mode. this exclusively affects dropout and batch normalisation layers\n",
    "    batch_frac = 42 / (len(train_loader)) # just for visualising progress\n",
    "    for batch_idx, (data, label) in enumerate(train_loader):\n",
    "        print(f\"train : {'█'*int(batch_idx*batch_frac)}\", end=\"\\r\")\n",
    "        \n",
    "        # Push data through model\n",
    "        optimizer.zero_grad() # zeros gradients of optimiser, necessary to ensure backward pass is based on just the forward pass called just after\n",
    "        out = model(data)\n",
    "        \n",
    "        # Calculate loss\n",
    "        loss = loss_fn(out,label)\n",
    "        loss.backward() # backpropagate to train network\n",
    "        optimizer.step() # steps forward the optimiser, necessary for optimisers like adam which change every iteration\n",
    "        \n",
    "        # Calculate metrics\n",
    "        running_loss_train += loss.cpu().item()\n",
    "        \n",
    "    print(f\"train : {'█'*42}\")\n",
    "        \n",
    "    # Validate loop\n",
    "    model.eval() # sets model in evaluation mode. this exclusively affects dropout and batch normalisation layers\n",
    "    batch_frac = 42 / len(val_loader)\n",
    "    with torch.no_grad():\n",
    "        for batch_idx, (data, label) in enumerate(val_loader):\n",
    "            print(f\"val   : {'█'*int(batch_idx*batch_frac)}\", end=\"\\r\")\n",
    "            \n",
    "            # Push data through model\n",
    "            out = model(data)\n",
    "            \n",
    "            # Calculate loss\n",
    "            loss = loss_fn(out,label) # no backpropagation on validaton set\n",
    "            \n",
    "            # Calculate metrics\n",
    "            running_loss_val += loss.cpu().item()\n",
    "            \n",
    "    print(f\"val   : {'█'*42}\")\n",
    "    \n",
    "    # calculate epoch metrics for train set\n",
    "    train_loss = running_loss_train / (len(train_loader)); training_losses.append(train_loss)\n",
    "    \n",
    "    # calculate epoch metrics for val set\n",
    "    val_loss = running_loss_val / (len(val_loader)); validation_losses.append(val_loss)\n",
    "    \n",
    "    # Update\n",
    "    print(f\"TRAIN --- | Loss: {train_loss:.4}\")\n",
    "    print(f\"VAL ----- | Loss: {val_loss:.4}\")\n",
    "\n",
    "    if val_loss < best_val_loss:\n",
    "        best_val_loss = val_loss\n",
    "        best_val_epoch = epoch\n",
    "        torch.save(model.state_dict(), rf'./models/autoenc_model_{seed}.pt')\n",
    "\n",
    "model.load_state_dict(torch.load(rf'./models/autoenc_model_{seed}.pt', weights_only=True))"
   ],
   "metadata": {
    "collapsed": false,
    "ExecuteTime": {
     "end_time": "2025-03-10T16:54:09.204875100Z",
     "start_time": "2025-03-10T16:54:04.098521400Z"
    }
   },
   "id": "9e60503205133470",
   "execution_count": 11
  },
  {
   "cell_type": "markdown",
   "source": [
    "## Test Loop"
   ],
   "metadata": {
    "collapsed": false
   },
   "id": "f6490e63df4e771e"
  },
  {
   "cell_type": "code",
   "outputs": [],
   "source": [
    "# Test\n",
    "running_loss_test = 0\n",
    "test_preds, test_targets = [], []\n",
    "model.eval()\n",
    "with torch.no_grad():\n",
    "    for batch_idx, (data, label) in enumerate(test_loader):\n",
    "        # Push data through model\n",
    "        out = model(data)\n",
    "        \n",
    "        # Calculate loss\n",
    "        loss = loss_fn(out,label)\n",
    "        \n",
    "        # Calculate metrics\n",
    "        running_loss_test += loss.cpu().item()\n",
    "\n",
    "# calculate test set metrics\n",
    "test_loss = running_loss_test / len(test_loader)\n",
    "\n",
    "print(f\"TEST ---- | Loss: {test_loss:.4}\")"
   ],
   "metadata": {
    "collapsed": false,
    "ExecuteTime": {
     "start_time": "2025-03-10T16:54:09.201885600Z"
    }
   },
   "id": "536e1f9a25e2397a",
   "execution_count": null
  },
  {
   "cell_type": "markdown",
   "source": [
    "## Evaluate"
   ],
   "metadata": {
    "collapsed": false
   },
   "id": "bdf7b2dd9ff0a81a"
  },
  {
   "cell_type": "code",
   "outputs": [],
   "source": [
    "fig,ax = plt.subplots(figsize=(12,5))\n",
    "ax.plot(np.arange(0,len(training_losses)),np.array(training_losses),color='cornflowerblue',label=\"train\")\n",
    "ax.plot(np.arange(0,len(validation_losses)),np.array(validation_losses),color='orange',label=\"validation\")\n",
    "ax.scatter(len(validation_losses)-1,test_loss,color='green',label=\"test\",marker=\"x\")\n",
    "ax.set_title(\"loss curves\"); ax.legend()\n",
    "\n",
    "ax.axvline(x=best_val_epoch+1, ymin=0, ymax=1, color='red',alpha=0.3)\n",
    "\n",
    "plt.tight_layout()"
   ],
   "metadata": {
    "collapsed": false,
    "ExecuteTime": {
     "start_time": "2025-03-10T16:54:09.203878200Z"
    }
   },
   "id": "acd71a2784409123",
   "execution_count": null
  },
  {
   "cell_type": "markdown",
   "source": [
    "## Show predictions"
   ],
   "metadata": {
    "collapsed": false
   },
   "id": "90d8d2dd72d5aa3e"
  },
  {
   "cell_type": "code",
   "outputs": [],
   "source": [
    "# load sample from test set\n",
    "test_data_raw, test_data_trans = next(iter(test_loader))\n",
    "out = model(test_data_raw).detach()"
   ],
   "metadata": {
    "collapsed": false,
    "ExecuteTime": {
     "start_time": "2025-03-10T16:54:09.203878200Z"
    }
   },
   "id": "6a73faa6bcd0abd0",
   "execution_count": null
  },
  {
   "cell_type": "code",
   "outputs": [],
   "source": [
    "loss_fn(test_data_trans,out)"
   ],
   "metadata": {
    "collapsed": false,
    "ExecuteTime": {
     "end_time": "2025-03-10T16:54:09.215838600Z",
     "start_time": "2025-03-10T16:54:09.205872100Z"
    }
   },
   "id": "6c7af66a3ab9e794",
   "execution_count": null
  },
  {
   "cell_type": "code",
   "outputs": [],
   "source": [
    "fig,ax = plt.subplots(10,1,figsize=(16,16)); ax = ax.flatten()\n",
    "for x in range(10):\n",
    "    ax[x].plot(wavenumbers_trans,test_data_trans[x],label=\"true trans\",color='cornflowerblue',alpha=0.7)\n",
    "    ax[x].plot(wavenumbers_trans,out[x],label=\"pred trans\",color='orange',alpha=0.7)\n",
    "fig.tight_layout()"
   ],
   "metadata": {
    "collapsed": false,
    "ExecuteTime": {
     "start_time": "2025-03-10T16:54:09.206868500Z"
    }
   },
   "id": "f4e445d018a5bc1c",
   "execution_count": null
  },
  {
   "cell_type": "code",
   "outputs": [],
   "source": [],
   "metadata": {
    "collapsed": false,
    "ExecuteTime": {
     "start_time": "2025-03-10T16:54:09.207865200Z"
    }
   },
   "id": "10dfedc18525483d"
  }
 ],
 "metadata": {
  "kernelspec": {
   "display_name": "Python 3",
   "language": "python",
   "name": "python3"
  },
  "language_info": {
   "codemirror_mode": {
    "name": "ipython",
    "version": 2
   },
   "file_extension": ".py",
   "mimetype": "text/x-python",
   "name": "python",
   "nbconvert_exporter": "python",
   "pygments_lexer": "ipython2",
   "version": "2.7.6"
  }
 },
 "nbformat": 4,
 "nbformat_minor": 5
}
