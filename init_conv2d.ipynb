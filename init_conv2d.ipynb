{
 "cells": [
  {
   "cell_type": "code",
   "execution_count": 1,
   "id": "initial_id",
   "metadata": {
    "collapsed": true,
    "ExecuteTime": {
     "end_time": "2025-03-12T16:41:42.466459300Z",
     "start_time": "2025-03-12T16:41:39.486246800Z"
    }
   },
   "outputs": [],
   "source": [
    "import numpy as np\n",
    "from matplotlib import pyplot as plt\n",
    "import torch\n",
    "from torch import nn\n",
    "from sklearn.model_selection import train_test_split, KFold\n",
    "from sklearn.metrics import accuracy_score, f1_score"
   ]
  },
  {
   "cell_type": "markdown",
   "source": [
    "## Experiment Parameters"
   ],
   "metadata": {
    "collapsed": false
   },
   "id": "318379b4c9456f39"
  },
  {
   "cell_type": "code",
   "outputs": [],
   "source": [
    "# Experiment level\n",
    "seed = 42\n",
    "torch.manual_seed(seed) # set random seed for reproducibility\n",
    "\n",
    "# Data loading\n",
    "test_set_fraction = 0.2\n",
    "val_set_fraction = 0.2\n",
    "batch_size= 64\n",
    "n_classes = 6\n",
    "\n",
    "# Network parameters\n",
    "hidden_dim = 256\n",
    "\n",
    "# Training schedule\n",
    "lr = 1e-4\n",
    "epochs = 60"
   ],
   "metadata": {
    "collapsed": false,
    "ExecuteTime": {
     "end_time": "2025-03-12T16:41:42.476848300Z",
     "start_time": "2025-03-12T16:41:42.468561Z"
    }
   },
   "id": "43fc33cf0cc9608a",
   "execution_count": 2
  },
  {
   "cell_type": "markdown",
   "source": [
    "## Import sample data"
   ],
   "metadata": {
    "collapsed": false
   },
   "id": "e6c2ff0ba40d36a5"
  },
  {
   "cell_type": "code",
   "outputs": [
    {
     "name": "stdout",
     "output_type": "stream",
     "text": [
      "Loaded 49361 spectra from 228 cores from 100 patients\n"
     ]
    }
   ],
   "source": [
    "root_dir = r'C:/Users/w37262do/Documents/git/lbp_3d/data/'\n",
    "spectra_raw = np.load(root_dir+'all_raw_spectra.npy') \n",
    "spectra_trans = np.load(root_dir+'all_transformed_spectra.npy') * 1000\n",
    "core_ids = np.load(root_dir+'all_core_indices.npy')\n",
    "patient_ids = np.load(root_dir+'all_core_pids.npy')\n",
    "tissue_classes = np.load(root_dir+'all_tissue_classes.npy')\n",
    "wavenumbers_raw = np.load(root_dir+'wavenumbers.npy')\n",
    "wavenumbers_trans = np.load(root_dir+'wavenumbers_dougal1_2nd.npy')\n",
    "annotation_class_names = np.array(['epithelium_n','stroma_n','epithelium_c','stroma_c','corpora_amylacea','blood'])\n",
    "n_classes = len(np.unique(tissue_classes))\n",
    "print(f\"Loaded {len(spectra_raw)} spectra from {len(np.unique(core_ids))} cores from {len(np.unique(patient_ids))} patients\")"
   ],
   "metadata": {
    "collapsed": false,
    "ExecuteTime": {
     "end_time": "2025-03-12T16:41:42.998877600Z",
     "start_time": "2025-03-12T16:41:42.474747900Z"
    }
   },
   "id": "162152a29cd6d12a",
   "execution_count": 3
  },
  {
   "cell_type": "markdown",
   "source": [
    "## Define data split, dataloaders and datasets\n"
   ],
   "metadata": {
    "collapsed": false
   },
   "id": "23e8a986a2b7268"
  },
  {
   "cell_type": "code",
   "outputs": [
    {
     "name": "stdout",
     "output_type": "stream",
     "text": [
      "Spectra per data split:\n",
      "\tTrain: 29785\n",
      "\tVal: 9231\n",
      "\tTest: 10345\n"
     ]
    }
   ],
   "source": [
    "# split patients into train, val, test sets\n",
    "unique_pids = np.unique(patient_ids)\n",
    "pids_trainval, pids_test, _, _ = train_test_split(unique_pids, np.zeros_like(unique_pids), test_size=0.2, random_state=seed)\n",
    "pids_train, pids_val, _, _ = train_test_split(pids_trainval, np.zeros_like(pids_trainval), test_size=0.25, random_state=seed)\n",
    "# Get indexes for which spectra are in each set\n",
    "where_train = np.where(np.isin(patient_ids,pids_train))\n",
    "where_val = np.where(np.isin(patient_ids,pids_val))\n",
    "where_test = np.where(np.isin(patient_ids,pids_test))\n",
    "print(f\"Spectra per data split:\\n\\tTrain: {len(where_train[0])}\\n\\tVal: {len(where_val[0])}\\n\\tTest: {len(where_test[0])}\")"
   ],
   "metadata": {
    "collapsed": false,
    "ExecuteTime": {
     "end_time": "2025-03-12T16:41:43.005520700Z",
     "start_time": "2025-03-12T16:41:42.994610200Z"
    }
   },
   "id": "f107e76dc407618c",
   "execution_count": 4
  },
  {
   "cell_type": "code",
   "outputs": [],
   "source": [
    "# define custom dataset class, inheriting from torch.utils.data.Dataset\n",
    "# The three functions here must be defined when inheriting from torch.utils.data.Dataset\n",
    "class spectra_dataset(torch.utils.data.Dataset):\n",
    "    def __init__(self, spectra_raw, spectra_trans):\n",
    "        self.spectra_raw = spectra_raw\n",
    "        self.spectra_trans = spectra_trans\n",
    "\n",
    "    # Function called to determine number of items in dataset\n",
    "    def __len__(self):\n",
    "        return len(self.spectra_raw)\n",
    "        \n",
    "    # Function called when retrieving a single item from dataset\n",
    "    # Items are indexed from [0 -> self.__len__]\n",
    "    def __getitem__(self, idx):\n",
    "        # get spectrum at idx, then convert from numpy array to torch tensor\n",
    "        spectrum = torch.from_numpy(self.spectra_raw[idx]).float() # torch (generally) expects float dtype for continuous data\n",
    "        \n",
    "        # get label, then convert it to a tensor also\n",
    "        trans = torch.from_numpy(self.spectra_trans[idx]).float() # torch expects labels to be long int\n",
    "        \n",
    "        return spectrum.unsqueeze(-1).unsqueeze(-1), trans.unsqueeze(-1).unsqueeze(-1)"
   ],
   "metadata": {
    "collapsed": false,
    "ExecuteTime": {
     "end_time": "2025-03-12T16:42:58.160869400Z",
     "start_time": "2025-03-12T16:42:58.149229400Z"
    }
   },
   "id": "26983331008ae9ec",
   "execution_count": 7
  },
  {
   "cell_type": "code",
   "outputs": [
    {
     "name": "stdout",
     "output_type": "stream",
     "text": [
      "loader sizes:\n",
      "\ttrain: 466 batches\n",
      "\tval: 145 batches\n",
      "\ttest: 162 batches\n"
     ]
    }
   ],
   "source": [
    "# define mean and std spectrum from train data\n",
    "\n",
    "# Define dataset objects for each data split\n",
    "dataset_train = spectra_dataset(\n",
    "    spectra_raw[where_train], spectra_trans[where_train]\n",
    ")\n",
    "\n",
    "dataset_val = spectra_dataset(\n",
    "    spectra_raw[where_val], spectra_trans[where_val]\n",
    ")\n",
    "\n",
    "dataset_test = spectra_dataset(\n",
    "    spectra_raw[where_test], spectra_trans[where_test]\n",
    ")\n",
    "\n",
    "# define dataloader objects for each data split\n",
    "# Batch size determines how many items are loaded and stacked together\n",
    "# Drop last ensures that every item is used; odd-shaped final batch is still used.\n",
    "train_loader = torch.utils.data.DataLoader(dataset_train, batch_size=batch_size, shuffle=True, drop_last=False)\n",
    "val_loader = torch.utils.data.DataLoader(dataset_val, batch_size=batch_size, shuffle=False, drop_last=False)\n",
    "test_loader = torch.utils.data.DataLoader(dataset_test, batch_size=batch_size, shuffle=False, drop_last=False)\n",
    "print(f\"loader sizes:\\n\\ttrain: {len(train_loader)} batches\\n\\tval: {len(val_loader)} batches\\n\\ttest: {len(test_loader)} batches\")"
   ],
   "metadata": {
    "collapsed": false,
    "ExecuteTime": {
     "end_time": "2025-03-12T16:42:59.029276Z",
     "start_time": "2025-03-12T16:42:58.566715100Z"
    }
   },
   "id": "888ba21c75b35d06",
   "execution_count": 8
  },
  {
   "cell_type": "markdown",
   "source": [
    "## Define network"
   ],
   "metadata": {
    "collapsed": false
   },
   "id": "6855bb015bb20cbf"
  },
  {
   "cell_type": "code",
   "outputs": [],
   "source": [
    "class spectra_network(nn.Module):\n",
    "    def __init__(self, input_dim, hidden_dim, output_dim):\n",
    "        super().__init__()\n",
    "        \n",
    "        self.input_norm = nn.BatchNorm2d(input_dim)\n",
    "        \n",
    "        self.activation = nn.GELU()\n",
    "        \n",
    "        self.autoenc = nn.Sequential(\n",
    "            nn.Conv2d(input_dim,hidden_dim,kernel_size=1),\n",
    "            self.activation,\n",
    "            nn.BatchNorm2d(hidden_dim),\n",
    "            nn.Conv2d(hidden_dim,hidden_dim,kernel_size=1),\n",
    "            self.activation,\n",
    "            nn.BatchNorm2d(hidden_dim),\n",
    "            nn.Conv2d(hidden_dim,hidden_dim,kernel_size=1),\n",
    "            self.activation,\n",
    "            nn.BatchNorm2d(hidden_dim),\n",
    "            nn.Conv2d(hidden_dim,output_dim,kernel_size=1),\n",
    "        )\n",
    "    \n",
    "    def forward(self, x):\n",
    "        x = self.input_norm(x)\n",
    "        x = self.autoenc(x)\n",
    "        return x"
   ],
   "metadata": {
    "collapsed": false,
    "ExecuteTime": {
     "end_time": "2025-03-12T16:43:47.347978900Z",
     "start_time": "2025-03-12T16:43:47.340127500Z"
    }
   },
   "id": "8a92acf002745f5",
   "execution_count": 25
  },
  {
   "cell_type": "code",
   "outputs": [
    {
     "name": "stdout",
     "output_type": "stream",
     "text": [
      "model with 0.763M params\n"
     ]
    }
   ],
   "source": [
    "model = spectra_network(\n",
    "    input_dim=spectra_raw.shape[-1],\n",
    "    hidden_dim=hidden_dim,\n",
    "    output_dim=spectra_trans.shape[-1],\n",
    ")\n",
    "print(f\"model with {sum(p.numel() for p in model.parameters() if p.requires_grad) / 1e6:.3f}M params\")"
   ],
   "metadata": {
    "collapsed": false,
    "ExecuteTime": {
     "end_time": "2025-03-12T16:43:47.516313600Z",
     "start_time": "2025-03-12T16:43:47.505357500Z"
    }
   },
   "id": "cee05d7bffcbddab",
   "execution_count": 26
  },
  {
   "cell_type": "code",
   "outputs": [],
   "source": [
    "loss_fn = nn.MSELoss()\n",
    "optimizer = torch.optim.Adam(model.parameters(), lr=lr)"
   ],
   "metadata": {
    "collapsed": false,
    "ExecuteTime": {
     "end_time": "2025-03-12T16:43:47.666756900Z",
     "start_time": "2025-03-12T16:43:47.658466400Z"
    }
   },
   "id": "4529c65315a9e780",
   "execution_count": 27
  },
  {
   "cell_type": "markdown",
   "source": [
    "## Train loop"
   ],
   "metadata": {
    "collapsed": false
   },
   "id": "59a94d5ae7f99e94"
  },
  {
   "cell_type": "code",
   "outputs": [],
   "source": [
    "training_losses,validation_losses = [],[]\n",
    "best_val_loss = 100000\n",
    "best_val_epoch = 0"
   ],
   "metadata": {
    "collapsed": false,
    "ExecuteTime": {
     "end_time": "2025-03-12T16:43:47.933296600Z",
     "start_time": "2025-03-12T16:43:47.927318400Z"
    }
   },
   "id": "3f2501838169db33",
   "execution_count": 28
  },
  {
   "cell_type": "code",
   "outputs": [
    {
     "name": "stdout",
     "output_type": "stream",
     "text": [
      "\n",
      " ✰ ✰ ✰ EPOCH 1 ✰ ✰ ✰ \n",
      "train : ██████████████████████████████████████████\n",
      "val   : ██████████████████████████████████████████\n",
      "TRAIN --- | Loss: 0.03336\n",
      "VAL ----- | Loss: 0.007349\n",
      "\n",
      " ✰ ✰ ✰ EPOCH 2 ✰ ✰ ✰ \n",
      "train : ██████████████████████████████████████████\n",
      "val   : ██████████████████████████████████████████\n",
      "TRAIN --- | Loss: 0.003198\n",
      "VAL ----- | Loss: 0.002478\n",
      "\n",
      " ✰ ✰ ✰ EPOCH 3 ✰ ✰ ✰ \n",
      "train : ██████████████████████████████████████████\n",
      "val   : ██████████████████████████████████████████\n",
      "TRAIN --- | Loss: 0.00177\n",
      "VAL ----- | Loss: 0.002218\n",
      "\n",
      " ✰ ✰ ✰ EPOCH 4 ✰ ✰ ✰ \n",
      "train : ██████████████████████████████████████████\n",
      "val   : ██████████████████████████████████████████\n",
      "TRAIN --- | Loss: 0.001555\n",
      "VAL ----- | Loss: 0.001987\n",
      "\n",
      " ✰ ✰ ✰ EPOCH 5 ✰ ✰ ✰ \n",
      "train : ██████████████████████████████████████████\n",
      "val   : ██████████████████████████████████████████\n",
      "TRAIN --- | Loss: 0.001368\n",
      "VAL ----- | Loss: 0.001802\n",
      "\n",
      " ✰ ✰ ✰ EPOCH 6 ✰ ✰ ✰ \n",
      "train : ██████████████████████████████████████████\n",
      "val   : ██████████████████████████████████████████\n",
      "TRAIN --- | Loss: 0.001174\n",
      "VAL ----- | Loss: 0.001459\n",
      "\n",
      " ✰ ✰ ✰ EPOCH 7 ✰ ✰ ✰ \n",
      "train : ██████████████████████████████████████████\n",
      "val   : ██████████████████████████████████████████\n",
      "TRAIN --- | Loss: 0.001017\n",
      "VAL ----- | Loss: 0.001304\n",
      "\n",
      " ✰ ✰ ✰ EPOCH 8 ✰ ✰ ✰ \n",
      "train : ██████████████████████████████████████████\n",
      "val   : ██████████████████████████████████████████\n",
      "TRAIN --- | Loss: 0.0009149\n",
      "VAL ----- | Loss: 0.001122\n",
      "\n",
      " ✰ ✰ ✰ EPOCH 9 ✰ ✰ ✰ \n",
      "train : ██████████████████████████████████████████\n",
      "val   : ██████████████████████████████████████████\n",
      "TRAIN --- | Loss: 0.0008302\n",
      "VAL ----- | Loss: 0.001146\n",
      "\n",
      " ✰ ✰ ✰ EPOCH 10 ✰ ✰ ✰ \n",
      "train : ██████████████████████████████████████████\n",
      "val   : ██████████████████████████████████████████\n",
      "TRAIN --- | Loss: 0.000761\n",
      "VAL ----- | Loss: 0.001053\n",
      "\n",
      " ✰ ✰ ✰ EPOCH 11 ✰ ✰ ✰ \n",
      "train : ██████████████████████████████████████████\n",
      "val   : ██████████████████████████████████████████\n",
      "TRAIN --- | Loss: 0.0007288\n",
      "VAL ----- | Loss: 0.0009093\n",
      "\n",
      " ✰ ✰ ✰ EPOCH 12 ✰ ✰ ✰ \n",
      "train : ██████████████████████████████████████████\n",
      "val   : ██████████████████████████████████████████\n",
      "TRAIN --- | Loss: 0.0006669\n",
      "VAL ----- | Loss: 0.0008524\n",
      "\n",
      " ✰ ✰ ✰ EPOCH 13 ✰ ✰ ✰ \n",
      "train : ██████████████████████████████████████████\n",
      "val   : ██████████████████████████████████████████\n",
      "TRAIN --- | Loss: 0.0006046\n",
      "VAL ----- | Loss: 0.0008299\n",
      "\n",
      " ✰ ✰ ✰ EPOCH 14 ✰ ✰ ✰ \n",
      "train : ██████████████████████████████████████████\n",
      "val   : ██████████████████████████████████████████\n",
      "TRAIN --- | Loss: 0.0005692\n",
      "VAL ----- | Loss: 0.0007282\n",
      "\n",
      " ✰ ✰ ✰ EPOCH 15 ✰ ✰ ✰ \n",
      "train : ██████████████████████████████████████████\n",
      "val   : ██████████████████████████████████████████\n",
      "TRAIN --- | Loss: 0.0005357\n",
      "VAL ----- | Loss: 0.0006729\n",
      "\n",
      " ✰ ✰ ✰ EPOCH 16 ✰ ✰ ✰ \n",
      "train : ██████████████████████████████████████████\n",
      "val   : ██████████████████████████████████████████\n",
      "TRAIN --- | Loss: 0.0005083\n",
      "VAL ----- | Loss: 0.0006798\n",
      "\n",
      " ✰ ✰ ✰ EPOCH 17 ✰ ✰ ✰ \n",
      "train : ██████████████████████████████████████████\n",
      "val   : ██████████████████████████████████████████\n",
      "TRAIN --- | Loss: 0.0004818\n",
      "VAL ----- | Loss: 0.0006392\n",
      "\n",
      " ✰ ✰ ✰ EPOCH 18 ✰ ✰ ✰ \n",
      "train : ██████████████████████████████████████████\n",
      "val   : ██████████████████████████████████████████\n",
      "TRAIN --- | Loss: 0.0004573\n",
      "VAL ----- | Loss: 0.0007782\n",
      "\n",
      " ✰ ✰ ✰ EPOCH 19 ✰ ✰ ✰ \n",
      "train : ██████████████████████████████████████████\n",
      "val   : ██████████████████████████████████████████\n",
      "TRAIN --- | Loss: 0.000436\n",
      "VAL ----- | Loss: 0.0005974\n",
      "\n",
      " ✰ ✰ ✰ EPOCH 20 ✰ ✰ ✰ \n",
      "train : ██████████████████████████████████████████\n",
      "val   : ██████████████████████████████████████████\n",
      "TRAIN --- | Loss: 0.0004197\n",
      "VAL ----- | Loss: 0.0006258\n",
      "\n",
      " ✰ ✰ ✰ EPOCH 21 ✰ ✰ ✰ \n",
      "train : ██████████████████████████████████████████\n",
      "val   : ██████████████████████████████████████████\n",
      "TRAIN --- | Loss: 0.0004064\n",
      "VAL ----- | Loss: 0.0005602\n",
      "\n",
      " ✰ ✰ ✰ EPOCH 22 ✰ ✰ ✰ \n",
      "train : ██████████████████████████████████████████\n",
      "val   : ██████████████████████████████████████████\n",
      "TRAIN --- | Loss: 0.0003928\n",
      "VAL ----- | Loss: 0.0005644\n",
      "\n",
      " ✰ ✰ ✰ EPOCH 23 ✰ ✰ ✰ \n",
      "train : ██████████████████████████████████████████\n",
      "val   : ██████████████████████████████████████████\n",
      "TRAIN --- | Loss: 0.0003758\n",
      "VAL ----- | Loss: 0.0005775\n",
      "\n",
      " ✰ ✰ ✰ EPOCH 24 ✰ ✰ ✰ \n",
      "train : ██████████████████████████████████████████\n",
      "val   : ██████████████████████████████████████████\n",
      "TRAIN --- | Loss: 0.0003778\n",
      "VAL ----- | Loss: 0.0005286\n",
      "\n",
      " ✰ ✰ ✰ EPOCH 25 ✰ ✰ ✰ \n",
      "train : ██████████████████████████████████████████\n",
      "val   : ██████████████████████████████████████████\n",
      "TRAIN --- | Loss: 0.000349\n",
      "VAL ----- | Loss: 0.0004923\n",
      "\n",
      " ✰ ✰ ✰ EPOCH 26 ✰ ✰ ✰ \n",
      "train : ██████████████████████████████████████████\n",
      "val   : ██████████████████████████████████████████\n",
      "TRAIN --- | Loss: 0.0003409\n",
      "VAL ----- | Loss: 0.000516\n",
      "\n",
      " ✰ ✰ ✰ EPOCH 27 ✰ ✰ ✰ \n",
      "train : ██████████████████████████████████████████\n",
      "val   : ██████████████████████████████████████████\n",
      "TRAIN --- | Loss: 0.0003335\n",
      "VAL ----- | Loss: 0.0005503\n",
      "\n",
      " ✰ ✰ ✰ EPOCH 28 ✰ ✰ ✰ \n",
      "train : ██████████████████████████████████████████\n",
      "val   : ██████████████████████████████████████████\n",
      "TRAIN --- | Loss: 0.0003215\n",
      "VAL ----- | Loss: 0.0004294\n",
      "\n",
      " ✰ ✰ ✰ EPOCH 29 ✰ ✰ ✰ \n",
      "train : ██████████████████████████████████████████\n",
      "val   : ██████████████████████████████████████████\n",
      "TRAIN --- | Loss: 0.0003203\n",
      "VAL ----- | Loss: 0.0004626\n",
      "\n",
      " ✰ ✰ ✰ EPOCH 30 ✰ ✰ ✰ \n",
      "train : ██████████████████████████████████████████\n",
      "val   : ██████████████████████████████████████████\n",
      "TRAIN --- | Loss: 0.0003051\n",
      "VAL ----- | Loss: 0.0004207\n",
      "\n",
      " ✰ ✰ ✰ EPOCH 31 ✰ ✰ ✰ \n",
      "train : ██████████████████████████████████████████\n",
      "val   : ██████████████████████████████████████████\n",
      "TRAIN --- | Loss: 0.0003042\n",
      "VAL ----- | Loss: 0.0004256\n",
      "\n",
      " ✰ ✰ ✰ EPOCH 32 ✰ ✰ ✰ \n",
      "train : ██████████████████████████████████████████\n",
      "val   : ██████████████████████████████████████████\n",
      "TRAIN --- | Loss: 0.0002993\n",
      "VAL ----- | Loss: 0.0004367\n",
      "\n",
      " ✰ ✰ ✰ EPOCH 33 ✰ ✰ ✰ \n",
      "train : ██████████████████████████████████████████\n",
      "val   : ██████████████████████████████████████████\n",
      "TRAIN --- | Loss: 0.0002943\n",
      "VAL ----- | Loss: 0.0004812\n",
      "\n",
      " ✰ ✰ ✰ EPOCH 34 ✰ ✰ ✰ \n",
      "train : ██████████████████████████████████████████\n",
      "val   : ██████████████████████████████████████████\n",
      "TRAIN --- | Loss: 0.000287\n",
      "VAL ----- | Loss: 0.0004395\n",
      "\n",
      " ✰ ✰ ✰ EPOCH 35 ✰ ✰ ✰ \n",
      "train : ██████████████████████████████████████████\n",
      "val   : ██████████████████████████████████████████\n",
      "TRAIN --- | Loss: 0.0002786\n",
      "VAL ----- | Loss: 0.0003838\n",
      "\n",
      " ✰ ✰ ✰ EPOCH 36 ✰ ✰ ✰ \n",
      "train : ██████████████████████████████████████████\n",
      "val   : ██████████████████████████████████████████\n",
      "TRAIN --- | Loss: 0.0002802\n",
      "VAL ----- | Loss: 0.0003375\n",
      "\n",
      " ✰ ✰ ✰ EPOCH 37 ✰ ✰ ✰ \n",
      "train : ██████████████████████████████████████████\n",
      "val   : ██████████████████████████████████████████\n",
      "TRAIN --- | Loss: 0.0002667\n",
      "VAL ----- | Loss: 0.000365\n",
      "\n",
      " ✰ ✰ ✰ EPOCH 38 ✰ ✰ ✰ \n",
      "train : ██████████████████████████████████████████\n",
      "val   : ██████████████████████████████████████████\n",
      "TRAIN --- | Loss: 0.000269\n",
      "VAL ----- | Loss: 0.0003843\n",
      "\n",
      " ✰ ✰ ✰ EPOCH 39 ✰ ✰ ✰ \n",
      "train : ██████████████████████████████████████████\n",
      "val   : ██████████████████████████████████████████\n",
      "TRAIN --- | Loss: 0.0002679\n",
      "VAL ----- | Loss: 0.0003463\n",
      "\n",
      " ✰ ✰ ✰ EPOCH 40 ✰ ✰ ✰ \n",
      "train : ██████████████████████████████████████████\n",
      "val   : ██████████████████████████████████████████\n",
      "TRAIN --- | Loss: 0.0002638\n",
      "VAL ----- | Loss: 0.0003611\n",
      "\n",
      " ✰ ✰ ✰ EPOCH 41 ✰ ✰ ✰ \n",
      "train : ██████████████████████████████████████████\n",
      "val   : ██████████████████████████████████████████\n",
      "TRAIN --- | Loss: 0.0002594\n",
      "VAL ----- | Loss: 0.00045\n",
      "\n",
      " ✰ ✰ ✰ EPOCH 42 ✰ ✰ ✰ \n",
      "train : ██████████████████████████████████████████\n",
      "val   : ██████████████████████████████████████████\n",
      "TRAIN --- | Loss: 0.0002576\n",
      "VAL ----- | Loss: 0.0003373\n",
      "\n",
      " ✰ ✰ ✰ EPOCH 43 ✰ ✰ ✰ \n",
      "train : ██████████████████████████████████████████\n",
      "val   : ██████████████████████████████████████████\n",
      "TRAIN --- | Loss: 0.0002604\n",
      "VAL ----- | Loss: 0.0003657\n",
      "\n",
      " ✰ ✰ ✰ EPOCH 44 ✰ ✰ ✰ \n",
      "train : ██████████████████████████████████████████\n",
      "val   : ██████████████████████████████████████████\n",
      "TRAIN --- | Loss: 0.0002453\n",
      "VAL ----- | Loss: 0.0003475\n",
      "\n",
      " ✰ ✰ ✰ EPOCH 45 ✰ ✰ ✰ \n",
      "train : ██████████████████████████████████████████\n",
      "val   : ██████████████████████████████████████████\n",
      "TRAIN --- | Loss: 0.0002467\n",
      "VAL ----- | Loss: 0.0004365\n",
      "\n",
      " ✰ ✰ ✰ EPOCH 46 ✰ ✰ ✰ \n",
      "train : ██████████████████████████████████████████\n",
      "val   : ██████████████████████████████████████████\n",
      "TRAIN --- | Loss: 0.0002505\n",
      "VAL ----- | Loss: 0.0003203\n",
      "\n",
      " ✰ ✰ ✰ EPOCH 47 ✰ ✰ ✰ \n",
      "train : ██████████████████████████████████████████\n",
      "val   : ██████████████████████████████████████████\n",
      "TRAIN --- | Loss: 0.0002407\n",
      "VAL ----- | Loss: 0.0003235\n",
      "\n",
      " ✰ ✰ ✰ EPOCH 48 ✰ ✰ ✰ \n",
      "train : ██████████████████████████████████████████\n",
      "val   : ██████████████████████████████████████████\n",
      "TRAIN --- | Loss: 0.0002377\n",
      "VAL ----- | Loss: 0.0003268\n",
      "\n",
      " ✰ ✰ ✰ EPOCH 49 ✰ ✰ ✰ \n",
      "train : ██████████████████████████████████████████\n",
      "val   : ██████████████████████████████████████████\n",
      "TRAIN --- | Loss: 0.0002278\n",
      "VAL ----- | Loss: 0.0002987\n",
      "\n",
      " ✰ ✰ ✰ EPOCH 50 ✰ ✰ ✰ \n",
      "train : ██████████████████████████████████████████\n",
      "val   : ██████████████████████████████████████████\n",
      "TRAIN --- | Loss: 0.0002296\n",
      "VAL ----- | Loss: 0.0002855\n",
      "\n",
      " ✰ ✰ ✰ EPOCH 51 ✰ ✰ ✰ \n",
      "train : ██████████████████████████████████████████\n",
      "val   : ██████████████████████████████████████████\n",
      "TRAIN --- | Loss: 0.0002313\n",
      "VAL ----- | Loss: 0.0003097\n",
      "\n",
      " ✰ ✰ ✰ EPOCH 52 ✰ ✰ ✰ \n",
      "train : ██████████████████████████████████████████\n",
      "val   : ██████████████████████████████████████████\n",
      "TRAIN --- | Loss: 0.0002297\n",
      "VAL ----- | Loss: 0.0003364\n",
      "\n",
      " ✰ ✰ ✰ EPOCH 53 ✰ ✰ ✰ \n",
      "train : ██████████████████████████████████████████\n",
      "val   : ██████████████████████████████████████████\n",
      "TRAIN --- | Loss: 0.0002269\n",
      "VAL ----- | Loss: 0.0003074\n",
      "\n",
      " ✰ ✰ ✰ EPOCH 54 ✰ ✰ ✰ \n",
      "train : ██████████████████████████████████████████\n",
      "val   : ██████████████████████████████████████████\n",
      "TRAIN --- | Loss: 0.0002248\n",
      "VAL ----- | Loss: 0.0003207\n",
      "\n",
      " ✰ ✰ ✰ EPOCH 55 ✰ ✰ ✰ \n",
      "train : ██████████████████████████████████████████\n",
      "val   : ██████████████████████████████████████████\n",
      "TRAIN --- | Loss: 0.0002243\n",
      "VAL ----- | Loss: 0.0003004\n",
      "\n",
      " ✰ ✰ ✰ EPOCH 56 ✰ ✰ ✰ \n",
      "train : ██████████████████████████████████████████\n",
      "val   : ██████████████████████████████████████████\n",
      "TRAIN --- | Loss: 0.0002169\n",
      "VAL ----- | Loss: 0.0003697\n",
      "\n",
      " ✰ ✰ ✰ EPOCH 57 ✰ ✰ ✰ \n",
      "train : ██████████████████████████████████████████\n",
      "val   : ██████████████████████████████████████████\n",
      "TRAIN --- | Loss: 0.0002154\n",
      "VAL ----- | Loss: 0.000263\n",
      "\n",
      " ✰ ✰ ✰ EPOCH 58 ✰ ✰ ✰ \n",
      "train : ██████████████████████████████████████████\n",
      "val   : ██████████████████████████████████████████\n",
      "TRAIN --- | Loss: 0.0002102\n",
      "VAL ----- | Loss: 0.000259\n",
      "\n",
      " ✰ ✰ ✰ EPOCH 59 ✰ ✰ ✰ \n",
      "train : ██████████████████████████████████████████\n",
      "val   : ██████████████████████████████████████████\n",
      "TRAIN --- | Loss: 0.0002104\n",
      "VAL ----- | Loss: 0.0003233\n",
      "\n",
      " ✰ ✰ ✰ EPOCH 60 ✰ ✰ ✰ \n",
      "train : ██████████████████████████████████████████\n",
      "val   : ██████████████████████████████████████████\n",
      "TRAIN --- | Loss: 0.0002086\n",
      "VAL ----- | Loss: 0.0003029\n"
     ]
    },
    {
     "data": {
      "text/plain": "<All keys matched successfully>"
     },
     "execution_count": 29,
     "metadata": {},
     "output_type": "execute_result"
    }
   ],
   "source": [
    "for epoch in range(epochs):\n",
    "    print(f\"\\n ✰ ✰ ✰ EPOCH {epoch+1} ✰ ✰ ✰ \")\n",
    "    \n",
    "    # reset running metrics\n",
    "    running_loss_train, running_loss_val = 0, 0\n",
    "    \n",
    "    # Train loop\n",
    "    model.train() # sets model in training mode. this exclusively affects dropout and batch normalisation layers\n",
    "    batch_frac = 42 / (len(train_loader)) # just for visualising progress\n",
    "    for batch_idx, (data, label) in enumerate(train_loader):\n",
    "        print(f\"train : {'█'*int(batch_idx*batch_frac)}\", end=\"\\r\")\n",
    "        \n",
    "        # Push data through model\n",
    "        optimizer.zero_grad() # zeros gradients of optimiser, necessary to ensure backward pass is based on just the forward pass called just after\n",
    "        out = model(data)\n",
    "        \n",
    "        # Calculate loss\n",
    "        loss = loss_fn(out,label)\n",
    "        loss.backward() # backpropagate to train network\n",
    "        optimizer.step() # steps forward the optimiser, necessary for optimisers like adam which change every iteration\n",
    "        \n",
    "        # Calculate metrics\n",
    "        running_loss_train += loss.cpu().item()\n",
    "        \n",
    "    print(f\"train : {'█'*42}\")\n",
    "        \n",
    "    # Validate loop\n",
    "    model.eval() # sets model in evaluation mode. this exclusively affects dropout and batch normalisation layers\n",
    "    batch_frac = 42 / len(val_loader)\n",
    "    with torch.no_grad():\n",
    "        for batch_idx, (data, label) in enumerate(val_loader):\n",
    "            print(f\"val   : {'█'*int(batch_idx*batch_frac)}\", end=\"\\r\")\n",
    "            \n",
    "            # Push data through model\n",
    "            out = model(data)\n",
    "            \n",
    "            # Calculate loss\n",
    "            loss = loss_fn(out,label) # no backpropagation on validaton set\n",
    "            \n",
    "            # Calculate metrics\n",
    "            running_loss_val += loss.cpu().item()\n",
    "            \n",
    "    print(f\"val   : {'█'*42}\")\n",
    "    \n",
    "    # calculate epoch metrics for train set\n",
    "    train_loss = running_loss_train / (len(train_loader)); training_losses.append(train_loss)\n",
    "    \n",
    "    # calculate epoch metrics for val set\n",
    "    val_loss = running_loss_val / (len(val_loader)); validation_losses.append(val_loss)\n",
    "    \n",
    "    # Update\n",
    "    print(f\"TRAIN --- | Loss: {train_loss:.4}\")\n",
    "    print(f\"VAL ----- | Loss: {val_loss:.4}\")\n",
    "\n",
    "    if val_loss < best_val_loss:\n",
    "        best_val_loss = val_loss\n",
    "        best_val_epoch = epoch\n",
    "        torch.save(model.state_dict(), rf'./models/autoenc_model_{seed}.pt')\n",
    "\n",
    "model.load_state_dict(torch.load(rf'./models/autoenc_model_{seed}.pt', weights_only=True))"
   ],
   "metadata": {
    "collapsed": false,
    "ExecuteTime": {
     "end_time": "2025-03-12T16:51:09.538648700Z",
     "start_time": "2025-03-12T16:43:48.093533700Z"
    }
   },
   "id": "9e60503205133470",
   "execution_count": 29
  },
  {
   "cell_type": "markdown",
   "source": [
    "## Test Loop"
   ],
   "metadata": {
    "collapsed": false
   },
   "id": "f6490e63df4e771e"
  },
  {
   "cell_type": "code",
   "outputs": [
    {
     "name": "stdout",
     "output_type": "stream",
     "text": [
      "TEST ---- | Loss: 0.0001621\n"
     ]
    }
   ],
   "source": [
    "# Test\n",
    "running_loss_test = 0\n",
    "test_preds, test_targets = [], []\n",
    "model.eval()\n",
    "with torch.no_grad():\n",
    "    for batch_idx, (data, label) in enumerate(test_loader):\n",
    "        # Push data through model\n",
    "        out = model(data)\n",
    "        \n",
    "        # Calculate loss\n",
    "        loss = loss_fn(out,label)\n",
    "        \n",
    "        # Calculate metrics\n",
    "        running_loss_test += loss.cpu().item()\n",
    "\n",
    "# calculate test set metrics\n",
    "test_loss = running_loss_test / len(test_loader)\n",
    "\n",
    "print(f\"TEST ---- | Loss: {test_loss:.4}\")"
   ],
   "metadata": {
    "collapsed": false,
    "ExecuteTime": {
     "end_time": "2025-03-12T16:54:21.409135600Z",
     "start_time": "2025-03-12T16:54:20.796512900Z"
    }
   },
   "id": "536e1f9a25e2397a",
   "execution_count": 30
  },
  {
   "cell_type": "markdown",
   "source": [
    "## Evaluate"
   ],
   "metadata": {
    "collapsed": false
   },
   "id": "bdf7b2dd9ff0a81a"
  },
  {
   "cell_type": "code",
   "outputs": [
    {
     "data": {
      "text/plain": "<Figure size 1200x500 with 1 Axes>",
      "image/png": "[encoded data removed]"
     },
     "metadata": {},
     "output_type": "display_data"
    }
   ],
   "source": [
    "fig,ax = plt.subplots(figsize=(12,5))\n",
    "ax.plot(np.arange(0,len(training_losses)),np.array(training_losses),color='cornflowerblue',label=\"train\")\n",
    "ax.plot(np.arange(0,len(validation_losses)),np.array(validation_losses),color='orange',label=\"validation\")\n",
    "ax.scatter(len(validation_losses)-1,test_loss,color='green',label=\"test\",marker=\"x\")\n",
    "ax.set_title(\"loss curves\"); ax.legend()\n",
    "\n",
    "ax.axvline(x=best_val_epoch+1, ymin=0, ymax=1, color='red',alpha=0.3)\n",
    "\n",
    "plt.tight_layout()"
   ],
   "metadata": {
    "collapsed": false,
    "ExecuteTime": {
     "end_time": "2025-03-12T16:54:22.360312100Z",
     "start_time": "2025-03-12T16:54:22.198105400Z"
    }
   },
   "id": "acd71a2784409123",
   "execution_count": 31
  },
  {
   "cell_type": "markdown",
   "source": [
    "## Show predictions"
   ],
   "metadata": {
    "collapsed": false
   },
   "id": "90d8d2dd72d5aa3e"
  },
  {
   "cell_type": "code",
   "outputs": [],
   "source": [
    "# load sample from test set\n",
    "test_data_raw, test_data_trans = next(iter(test_loader))\n",
    "out = model(test_data_raw).detach()"
   ],
   "metadata": {
    "collapsed": false,
    "ExecuteTime": {
     "end_time": "2025-03-12T16:54:24.285216100Z",
     "start_time": "2025-03-12T16:54:24.274501400Z"
    }
   },
   "id": "6a73faa6bcd0abd0",
   "execution_count": 32
  },
  {
   "cell_type": "code",
   "outputs": [
    {
     "data": {
      "text/plain": "tensor(0.0002)"
     },
     "execution_count": 33,
     "metadata": {},
     "output_type": "execute_result"
    }
   ],
   "source": [
    "loss_fn(test_data_trans,out)"
   ],
   "metadata": {
    "collapsed": false,
    "ExecuteTime": {
     "end_time": "2025-03-12T16:54:25.287372Z",
     "start_time": "2025-03-12T16:54:25.283109300Z"
    }
   },
   "id": "6c7af66a3ab9e794",
   "execution_count": 33
  },
  {
   "cell_type": "code",
   "outputs": [
    {
     "ename": "ValueError",
     "evalue": "x and y can be no greater than 2D, but have shapes (965,) and (965, 1, 1)",
     "output_type": "error",
     "traceback": [
      "\u001B[1;31m---------------------------------------------------------------------------\u001B[0m",
      "\u001B[1;31mValueError\u001B[0m                                Traceback (most recent call last)",
      "Cell \u001B[1;32mIn[34], line 3\u001B[0m\n\u001B[0;32m      1\u001B[0m fig,ax \u001B[38;5;241m=\u001B[39m plt\u001B[38;5;241m.\u001B[39msubplots(\u001B[38;5;241m10\u001B[39m,\u001B[38;5;241m1\u001B[39m,figsize\u001B[38;5;241m=\u001B[39m(\u001B[38;5;241m16\u001B[39m,\u001B[38;5;241m16\u001B[39m)); ax \u001B[38;5;241m=\u001B[39m ax\u001B[38;5;241m.\u001B[39mflatten()\n\u001B[0;32m      2\u001B[0m \u001B[38;5;28;01mfor\u001B[39;00m x \u001B[38;5;129;01min\u001B[39;00m \u001B[38;5;28mrange\u001B[39m(\u001B[38;5;241m10\u001B[39m):\n\u001B[1;32m----> 3\u001B[0m     ax[x]\u001B[38;5;241m.\u001B[39mplot(wavenumbers_trans,test_data_trans[x],label\u001B[38;5;241m=\u001B[39m\u001B[38;5;124m\"\u001B[39m\u001B[38;5;124mtrue trans\u001B[39m\u001B[38;5;124m\"\u001B[39m,color\u001B[38;5;241m=\u001B[39m\u001B[38;5;124m'\u001B[39m\u001B[38;5;124mcornflowerblue\u001B[39m\u001B[38;5;124m'\u001B[39m,alpha\u001B[38;5;241m=\u001B[39m\u001B[38;5;241m0.7\u001B[39m)\n\u001B[0;32m      4\u001B[0m     ax[x]\u001B[38;5;241m.\u001B[39mplot(wavenumbers_trans,out[x],label\u001B[38;5;241m=\u001B[39m\u001B[38;5;124m\"\u001B[39m\u001B[38;5;124mpred trans\u001B[39m\u001B[38;5;124m\"\u001B[39m,color\u001B[38;5;241m=\u001B[39m\u001B[38;5;124m'\u001B[39m\u001B[38;5;124morange\u001B[39m\u001B[38;5;124m'\u001B[39m,alpha\u001B[38;5;241m=\u001B[39m\u001B[38;5;241m0.7\u001B[39m)\n\u001B[0;32m      5\u001B[0m fig\u001B[38;5;241m.\u001B[39mtight_layout()\n",
      "File \u001B[1;32m~\\AppData\\Local\\anaconda3\\envs\\phd-env\\Lib\\site-packages\\matplotlib\\axes\\_axes.py:1779\u001B[0m, in \u001B[0;36mAxes.plot\u001B[1;34m(self, scalex, scaley, data, *args, **kwargs)\u001B[0m\n\u001B[0;32m   1536\u001B[0m \u001B[38;5;250m\u001B[39m\u001B[38;5;124;03m\"\"\"\u001B[39;00m\n\u001B[0;32m   1537\u001B[0m \u001B[38;5;124;03mPlot y versus x as lines and/or markers.\u001B[39;00m\n\u001B[0;32m   1538\u001B[0m \n\u001B[1;32m   (...)\u001B[0m\n\u001B[0;32m   1776\u001B[0m \u001B[38;5;124;03m(``'green'``) or hex strings (``'#008000'``).\u001B[39;00m\n\u001B[0;32m   1777\u001B[0m \u001B[38;5;124;03m\"\"\"\u001B[39;00m\n\u001B[0;32m   1778\u001B[0m kwargs \u001B[38;5;241m=\u001B[39m cbook\u001B[38;5;241m.\u001B[39mnormalize_kwargs(kwargs, mlines\u001B[38;5;241m.\u001B[39mLine2D)\n\u001B[1;32m-> 1779\u001B[0m lines \u001B[38;5;241m=\u001B[39m [\u001B[38;5;241m*\u001B[39m\u001B[38;5;28mself\u001B[39m\u001B[38;5;241m.\u001B[39m_get_lines(\u001B[38;5;28mself\u001B[39m, \u001B[38;5;241m*\u001B[39margs, data\u001B[38;5;241m=\u001B[39mdata, \u001B[38;5;241m*\u001B[39m\u001B[38;5;241m*\u001B[39mkwargs)]\n\u001B[0;32m   1780\u001B[0m \u001B[38;5;28;01mfor\u001B[39;00m line \u001B[38;5;129;01min\u001B[39;00m lines:\n\u001B[0;32m   1781\u001B[0m     \u001B[38;5;28mself\u001B[39m\u001B[38;5;241m.\u001B[39madd_line(line)\n",
      "File \u001B[1;32m~\\AppData\\Local\\anaconda3\\envs\\phd-env\\Lib\\site-packages\\matplotlib\\axes\\_base.py:296\u001B[0m, in \u001B[0;36m_process_plot_var_args.__call__\u001B[1;34m(self, axes, data, *args, **kwargs)\u001B[0m\n\u001B[0;32m    294\u001B[0m     this \u001B[38;5;241m+\u001B[39m\u001B[38;5;241m=\u001B[39m args[\u001B[38;5;241m0\u001B[39m],\n\u001B[0;32m    295\u001B[0m     args \u001B[38;5;241m=\u001B[39m args[\u001B[38;5;241m1\u001B[39m:]\n\u001B[1;32m--> 296\u001B[0m \u001B[38;5;28;01myield from\u001B[39;00m \u001B[38;5;28mself\u001B[39m\u001B[38;5;241m.\u001B[39m_plot_args(\n\u001B[0;32m    297\u001B[0m     axes, this, kwargs, ambiguous_fmt_datakey\u001B[38;5;241m=\u001B[39mambiguous_fmt_datakey)\n",
      "File \u001B[1;32m~\\AppData\\Local\\anaconda3\\envs\\phd-env\\Lib\\site-packages\\matplotlib\\axes\\_base.py:489\u001B[0m, in \u001B[0;36m_process_plot_var_args._plot_args\u001B[1;34m(self, axes, tup, kwargs, return_kwargs, ambiguous_fmt_datakey)\u001B[0m\n\u001B[0;32m    486\u001B[0m     \u001B[38;5;28;01mraise\u001B[39;00m \u001B[38;5;167;01mValueError\u001B[39;00m(\u001B[38;5;124mf\u001B[39m\u001B[38;5;124m\"\u001B[39m\u001B[38;5;124mx and y must have same first dimension, but \u001B[39m\u001B[38;5;124m\"\u001B[39m\n\u001B[0;32m    487\u001B[0m                      \u001B[38;5;124mf\u001B[39m\u001B[38;5;124m\"\u001B[39m\u001B[38;5;124mhave shapes \u001B[39m\u001B[38;5;132;01m{\u001B[39;00mx\u001B[38;5;241m.\u001B[39mshape\u001B[38;5;132;01m}\u001B[39;00m\u001B[38;5;124m and \u001B[39m\u001B[38;5;132;01m{\u001B[39;00my\u001B[38;5;241m.\u001B[39mshape\u001B[38;5;132;01m}\u001B[39;00m\u001B[38;5;124m\"\u001B[39m)\n\u001B[0;32m    488\u001B[0m \u001B[38;5;28;01mif\u001B[39;00m x\u001B[38;5;241m.\u001B[39mndim \u001B[38;5;241m>\u001B[39m \u001B[38;5;241m2\u001B[39m \u001B[38;5;129;01mor\u001B[39;00m y\u001B[38;5;241m.\u001B[39mndim \u001B[38;5;241m>\u001B[39m \u001B[38;5;241m2\u001B[39m:\n\u001B[1;32m--> 489\u001B[0m     \u001B[38;5;28;01mraise\u001B[39;00m \u001B[38;5;167;01mValueError\u001B[39;00m(\u001B[38;5;124mf\u001B[39m\u001B[38;5;124m\"\u001B[39m\u001B[38;5;124mx and y can be no greater than 2D, but have \u001B[39m\u001B[38;5;124m\"\u001B[39m\n\u001B[0;32m    490\u001B[0m                      \u001B[38;5;124mf\u001B[39m\u001B[38;5;124m\"\u001B[39m\u001B[38;5;124mshapes \u001B[39m\u001B[38;5;132;01m{\u001B[39;00mx\u001B[38;5;241m.\u001B[39mshape\u001B[38;5;132;01m}\u001B[39;00m\u001B[38;5;124m and \u001B[39m\u001B[38;5;132;01m{\u001B[39;00my\u001B[38;5;241m.\u001B[39mshape\u001B[38;5;132;01m}\u001B[39;00m\u001B[38;5;124m\"\u001B[39m)\n\u001B[0;32m    491\u001B[0m \u001B[38;5;28;01mif\u001B[39;00m x\u001B[38;5;241m.\u001B[39mndim \u001B[38;5;241m==\u001B[39m \u001B[38;5;241m1\u001B[39m:\n\u001B[0;32m    492\u001B[0m     x \u001B[38;5;241m=\u001B[39m x[:, np\u001B[38;5;241m.\u001B[39mnewaxis]\n",
      "\u001B[1;31mValueError\u001B[0m: x and y can be no greater than 2D, but have shapes (965,) and (965, 1, 1)"
     ]
    },
    {
     "data": {
      "text/plain": "<Figure size 1600x1600 with 10 Axes>",
      "image/png": "[encoded data removed]"
     },
     "metadata": {},
     "output_type": "display_data"
    }
   ],
   "source": [
    "fig,ax = plt.subplots(10,1,figsize=(16,16)); ax = ax.flatten()\n",
    "for x in range(10):\n",
    "    ax[x].plot(wavenumbers_trans,test_data_trans[x],label=\"true trans\",color='cornflowerblue',alpha=0.7)\n",
    "    ax[x].plot(wavenumbers_trans,out[x],label=\"pred trans\",color='orange',alpha=0.7)\n",
    "fig.tight_layout()"
   ],
   "metadata": {
    "collapsed": false,
    "ExecuteTime": {
     "end_time": "2025-03-12T16:54:26.724791300Z",
     "start_time": "2025-03-12T16:54:25.479711200Z"
    }
   },
   "id": "f4e445d018a5bc1c",
   "execution_count": 34
  },
  {
   "cell_type": "code",
   "outputs": [],
   "source": [],
   "metadata": {
    "collapsed": false,
    "ExecuteTime": {
     "start_time": "2025-03-10T16:54:09.207865200Z"
    }
   },
   "id": "10dfedc18525483d"
  }
 ],
 "metadata": {
  "kernelspec": {
   "display_name": "Python 3",
   "language": "python",
   "name": "python3"
  },
  "language_info": {
   "codemirror_mode": {
    "name": "ipython",
    "version": 2
   },
   "file_extension": ".py",
   "mimetype": "text/x-python",
   "name": "python",
   "nbconvert_exporter": "python",
   "pygments_lexer": "ipython2",
   "version": "2.7.6"
  }
 },
 "nbformat": 4,
 "nbformat_minor": 5
}
